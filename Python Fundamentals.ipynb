{
 "cells": [
  {
   "cell_type": "markdown",
   "metadata": {},
   "source": [
    "# <u>Python Fundamentals\n",
    "    \n",
    "    \n",
    "    "
   ]
  },
  {
   "cell_type": "markdown",
   "metadata": {},
   "source": [
    "## Printing"
   ]
  },
  {
   "cell_type": "code",
   "execution_count": 1,
   "metadata": {},
   "outputs": [
    {
     "name": "stdout",
     "output_type": "stream",
     "text": [
      "Hello\n",
      "Hello\n",
      "4\n",
      "4\n",
      "2.0\n",
      "2\n",
      "\n",
      "Jupyter Notebook\n",
      "Python 3\n",
      "Conda\n",
      "Atom\n",
      "\n",
      "Jupyter Notebook\n",
      "Python 3\n",
      "Conda\n",
      "Atom\n"
     ]
    }
   ],
   "source": [
    "#Basic Printing\n",
    "#Print String\n",
    "print(\"Hello\")\n",
    "print('Hello')\n",
    "\n",
    "#Print math operations\n",
    "#Math rule: PE(M&D)(A&S)\n",
    "print(2 + 2)\n",
    "print(2 * 2)\n",
    "print(4 / 2)\n",
    "print(4 // 2)\n",
    "#Print using Triple quotes\n",
    "print('''\n",
    "Jupyter Notebook\n",
    "Python 3\n",
    "Conda\n",
    "Atom''')\n",
    "print(\"\"\"\n",
    "Jupyter Notebook\n",
    "Python 3\n",
    "Conda\n",
    "Atom\"\"\")"
   ]
  },
  {
   "cell_type": "markdown",
   "metadata": {},
   "source": [
    "## Variable Assignment"
   ]
  },
  {
   "cell_type": "code",
   "execution_count": 2,
   "metadata": {
    "scrolled": true
   },
   "outputs": [
    {
     "name": "stdout",
     "output_type": "stream",
     "text": [
      "10 20 30 10 10 10 10\n"
     ]
    }
   ],
   "source": [
    "var1 = 10\n",
    "#Multiple variable assignment\n",
    "a = b = c = d = 10\n",
    "var2 ,var3 = 20, 30\n",
    "\n",
    "print(var1 , var2, var3, a, b, c, d)"
   ]
  },
  {
   "cell_type": "markdown",
   "metadata": {},
   "source": [
    "## Escape Char."
   ]
  },
  {
   "cell_type": "code",
   "execution_count": 3,
   "metadata": {},
   "outputs": [
    {
     "name": "stdout",
     "output_type": "stream",
     "text": [
      "Jupyter\tNotebook\n",
      "Python\t3\n",
      "Conda\n",
      "Atom\n",
      "Jupyter\u0007Notebook\tPython\\3'Conda\"Atom\n"
     ]
    }
   ],
   "source": [
    "#Escape Character\n",
    "text1 = \"Jupyter\\tNotebook\\nPython\\t3\\nConda\\nAtom\"\n",
    "print(text1)\n",
    "text2 = \"Jupyter\\aNotebook\\tPython\\\\3\\'Conda\\\"Atom\"\n",
    "print(text2)"
   ]
  },
  {
   "cell_type": "markdown",
   "metadata": {},
   "source": [
    "## Reserved Keyword"
   ]
  },
  {
   "cell_type": "code",
   "execution_count": 4,
   "metadata": {},
   "outputs": [
    {
     "name": "stdout",
     "output_type": "stream",
     "text": [
      "\n",
      "False\tclass\tfinally\tis\treturn\n",
      "None\tfor\tlambda\ttry\tcontinue\n",
      "except\tTrue\tdef\tglobal\tnot\n",
      "with\tas\telif\tif\tor\n",
      "yield\tassert\telse\timport\tpass\n",
      "break\texcept\tin\traise\n",
      "\n"
     ]
    }
   ],
   "source": [
    "#Keywords in Python.Reserved\n",
    "print('''\n",
    "False\\tclass\\tfinally\\tis\\treturn\n",
    "None\\tfor\\tlambda\\ttry\\tcontinue\n",
    "except\\tTrue\\tdef\\tglobal\\tnot\n",
    "with\\tas\\telif\\tif\\tor\n",
    "yield\\tassert\\telse\\timport\\tpass\n",
    "break\\texcept\\tin\\traise\n",
    "''')\n"
   ]
  },
  {
   "cell_type": "markdown",
   "metadata": {},
   "source": [
    "## Cont. char."
   ]
  },
  {
   "cell_type": "code",
   "execution_count": 5,
   "metadata": {},
   "outputs": [
    {
     "name": "stdout",
     "output_type": "stream",
     "text": [
      "45\n",
      "Hello World\n"
     ]
    }
   ],
   "source": [
    "#Continutation Char : continuation character (\\)\n",
    "a = 1 + 2 + 3 + \\\n",
    "    4 + 5 + 6 + \\\n",
    "    7 + 8 + 9\n",
    "print(a)\n",
    "\n",
    "b = \"Hello\" \\\n",
    "    \" \"\\\n",
    "    \"World\"\n",
    "print(b)"
   ]
  },
  {
   "cell_type": "markdown",
   "metadata": {},
   "source": [
    "## Operators"
   ]
  },
  {
   "cell_type": "code",
   "execution_count": 6,
   "metadata": {},
   "outputs": [
    {
     "name": "stdout",
     "output_type": "stream",
     "text": [
      "==================================================\n",
      "Arithmetic Operator\n",
      "Sum: 15\n",
      "Difference: 5\n",
      "Product: 50\n",
      "Division: 2.0\n",
      "Exponent: 100000\n",
      "Floor Division: 2\n",
      "Modulo:  1\n",
      "==================================================\n",
      "Comparision Operator\n",
      "True\n",
      "False\n",
      "True\n",
      "False\n",
      "True\n",
      "False\n",
      "==================================================\n",
      "Logical Operator\n",
      "AND Operator:\n",
      "True\n",
      "False\n",
      "False\n",
      "False\n",
      "OR Operator:\n",
      "True\n",
      "True\n",
      "True\n",
      "False\n",
      "Not Operator:\n",
      "False\n",
      "True\n"
     ]
    }
   ],
   "source": [
    "a = 10\n",
    "b = 5\n",
    "#Arithmetic Operators\n",
    "print(\"=\"*50)\n",
    "print(\"Arithmetic Operator\")\n",
    "print(\"Sum:\",(a + b))\n",
    "print(\"Difference:\",(a - b))\n",
    "print(\"Product:\",(a * b))\n",
    "print(\"Division:\",(a / b))\n",
    "print(\"Exponent:\",(a ** b))\n",
    "print(\"Floor Division:\",(a // b))\n",
    "print(\"Modulo: \", (a % 3))\n",
    "\n",
    "\n",
    "#Comparision Operator. Return Bool\n",
    "print(\"=\"*50)\n",
    "print(\"Comparision Operator\")\n",
    "print(a > b)\n",
    "print(a < b)\n",
    "print(a >= b)\n",
    "print(a <= b)\n",
    "print(a != b)\n",
    "print(a == b)\n",
    "\n",
    "#Logical Operators\n",
    "a = 5 \n",
    "b = 10\n",
    "c = 5\n",
    "print(\"=\"*50)\n",
    "print(\"Logical Operator\")\n",
    "print(\"AND Operator:\")\n",
    "#And Operator: both need to be true\n",
    "print(a == c and a != b )  \n",
    "print(b > a and c > b)\n",
    "print(b ==c and b > a)\n",
    "print(a == b and c >b)\n",
    "\n",
    "#OR Operator: Either or both true case\n",
    "print(\"OR Operator:\")\n",
    "print(a == c or a != b )  \n",
    "print(b > a or c > b)\n",
    "print(b ==c or b > a)\n",
    "print(a == b or c == b)\n",
    "\n",
    "print(\"Not Operator:\")\n",
    "print(not(a == c or a != b ) )\n",
    "print(not(not(a == c or a != b ) ))\n",
    "\n",
    "\n",
    "\n"
   ]
  },
  {
   "cell_type": "markdown",
   "metadata": {},
   "source": [
    "\n",
    "## Strings"
   ]
  },
  {
   "cell_type": "code",
   "execution_count": 7,
   "metadata": {},
   "outputs": [
    {
     "name": "stdout",
     "output_type": "stream",
     "text": [
      "Hello\n",
      "Jupyter\n",
      "HelloJupyter\n",
      "Hello Jupyter\n"
     ]
    }
   ],
   "source": [
    "#Strings\n",
    "greet = \"Hello\"\n",
    "name = \"Jupyter\"\n",
    "print(greet)\n",
    "print(name)\n",
    "print(greet + name)\n",
    "print(greet +' '+ name)"
   ]
  },
  {
   "cell_type": "markdown",
   "metadata": {},
   "source": [
    "## String index,len,in,for,f-string"
   ]
  },
  {
   "cell_type": "code",
   "execution_count": 8,
   "metadata": {},
   "outputs": [
    {
     "name": "stdout",
     "output_type": "stream",
     "text": [
      "Type: <class 'str'>\n",
      "Print Entire String: Green Bird\n",
      "Print first element: G\n",
      "String Slicing\n",
      "Green Bird\n",
      "Green Bir\n",
      "Green Bi\n",
      "GenBr\n",
      "GeBd\n",
      "Length of string parrot: 10\n",
      "G\n",
      "r\n",
      "e\n",
      "e\n",
      "n\n",
      " \n",
      "B\n",
      "i\n",
      "r\n",
      "d\n",
      "Vowels in 'Blue Bird':uei\n",
      "True\n",
      "True\n"
     ]
    }
   ],
   "source": [
    "#String index,len,in,for,f-string\n",
    "parrot = \"Green Bird\"\n",
    "\n",
    "print(\"Type:\",type(parrot))\n",
    "print(\"Print Entire String:\",parrot)\n",
    "print(\"Print first element:\",parrot[0])\n",
    "print(\"String Slicing\")\n",
    "print(parrot[0:])\n",
    "print(parrot[:-1])\n",
    "print(parrot[0:-2])\n",
    "print(parrot[0::2])\n",
    "print(parrot[0::3])\n",
    "print(f\"Length of string parrot: {len(parrot)}\")\n",
    "for i in parrot:\n",
    "    print(i)\n",
    "\n",
    "#String are immutable\n",
    "#parrot[3] = 'd'\n",
    "#But the string can be re-asigned\n",
    "parrot = \"Blue Bird\"\n",
    "\n",
    "vow = ''\n",
    "for i in parrot:\n",
    "    if i in \"aeiou\":\n",
    "        vow +=i\n",
    "\n",
    "print(f\"Vowels in \\'{parrot}\\':{vow}\")\n",
    "\n",
    "if \"Bird\" in parrot:\n",
    "    print(True)\n",
    "elif \"Green\" in parrot:\n",
    "    print(True)\n",
    "    \n",
    "    \n",
    "if \"Blue\" in parrot:\n",
    "    print(True)\n",
    "else:\n",
    "    print(False)"
   ]
  },
  {
   "cell_type": "markdown",
   "metadata": {},
   "source": [
    "## Format string and f-string"
   ]
  },
  {
   "cell_type": "code",
   "execution_count": 9,
   "metadata": {},
   "outputs": [
    {
     "name": "stdout",
     "output_type": "stream",
     "text": [
      "Python using Jupyter Notebook\n",
      "Python using Jupyter Notebook\n",
      "Python using Jupyter Notebook\n"
     ]
    }
   ],
   "source": [
    "#Format string and f-string\n",
    "text1 = \"Jupyter Notebook\"\n",
    "#f-string\n",
    "print(f\"Python using {text1}\")\n",
    "text2 = \"Python using {}\"\n",
    "print(\"Python using {}\".format(text1))\n",
    "print(text2.format(text1))"
   ]
  },
  {
   "cell_type": "markdown",
   "metadata": {},
   "source": [
    "## For Loop"
   ]
  },
  {
   "cell_type": "code",
   "execution_count": 10,
   "metadata": {},
   "outputs": [
    {
     "name": "stdout",
     "output_type": "stream",
     "text": [
      "0\n",
      "1\n",
      "2\n",
      "3\n",
      "4\n",
      "5\n",
      "6\n",
      "7\n",
      "8\n",
      "9\n",
      "10\n",
      "**********\n",
      "1\n",
      "2\n",
      "3\n",
      "4\n",
      "5\n",
      "6\n",
      "7\n",
      "8\n",
      "9\n",
      "0\n",
      "**********\n",
      "P\n",
      "a\n",
      "r\n",
      "r\n",
      "o\n",
      "t\n"
     ]
    }
   ],
   "source": [
    "#For Loop\n",
    "for i in range(11):\n",
    "    print(i)\n",
    "\n",
    "string_txt = \"1234567890\"\n",
    "print('*'*10)\n",
    "for i in string_txt:\n",
    "    print(i)\n",
    "\n",
    "string_txt2 = \"Parrot\"\n",
    "print('*'*10)\n",
    "for i in string_txt2:\n",
    "    print(i)"
   ]
  },
  {
   "cell_type": "markdown",
   "metadata": {},
   "source": [
    "## User Input"
   ]
  },
  {
   "cell_type": "code",
   "execution_count": 11,
   "metadata": {},
   "outputs": [
    {
     "name": "stdout",
     "output_type": "stream",
     "text": [
      "Enter a number:2\n",
      "You typed: 2\n",
      "Enter another number:2 3 5\n",
      "You entered: 2 3 5\n",
      "Enter three numbers: 34 7 6\n"
     ]
    }
   ],
   "source": [
    "#User Input\n",
    "print(\"Enter a number:\",end ='')\n",
    "x = input()\n",
    "print(\"You typed:\",x)\n",
    "\n",
    "y = input(\"Enter another number:\")\n",
    "print(\"You entered:\",y)\n",
    "\n",
    "#Multiple input\n",
    "num1, num2, num3 = input(\"Enter three numbers: \").split()"
   ]
  },
  {
   "cell_type": "markdown",
   "metadata": {},
   "source": [
    "## if...elif....else"
   ]
  },
  {
   "cell_type": "code",
   "execution_count": 12,
   "metadata": {},
   "outputs": [
    {
     "name": "stdout",
     "output_type": "stream",
     "text": [
      "Age greater than equal to 25 but less than 35.\n",
      "**********\n",
      "Number greater than 10.\n",
      "Number greater than 15.\n",
      "Number greater than 20.\n",
      "Number is 25.\n"
     ]
    }
   ],
   "source": [
    "#if...elif....else\n",
    "age = 30\n",
    "if age >= 25:\n",
    "    print(\"Age greater than equal to 25 but less than 35.\")\n",
    "elif age >= 35:\n",
    "    print(\"Age greater than or equal.\")\n",
    "else:\n",
    "    print(\"Age less than 25\")\n",
    "\n",
    "print(\"*\"*10)\n",
    "#Nested if\n",
    "number = 25\n",
    "if number >= 10:\n",
    "    print(\"Number greater than 10.\")\n",
    "    if number > 15:\n",
    "        print(\"Number greater than 15.\")\n",
    "        if number > 20:\n",
    "            print(\"Number greater than 20.\")\n",
    "            if number == 25:\n",
    "                print(f\"Number is {number}.\")\n",
    "else:\n",
    "    print(\"Number less than 10.\")"
   ]
  },
  {
   "cell_type": "markdown",
   "metadata": {},
   "source": [
    "## Strange case"
   ]
  },
  {
   "cell_type": "code",
   "execution_count": 13,
   "metadata": {},
   "outputs": [
    {
     "name": "stdout",
     "output_type": "stream",
     "text": [
      "Hello\n"
     ]
    }
   ],
   "source": [
    "#Strange case:\n",
    "xt = \"False\"\n",
    "if xt:\n",
    "    print(\"Hello\")"
   ]
  },
  {
   "cell_type": "markdown",
   "metadata": {},
   "source": [
    "## Negation"
   ]
  },
  {
   "cell_type": "code",
   "execution_count": 14,
   "metadata": {},
   "outputs": [
    {
     "name": "stdout",
     "output_type": "stream",
     "text": [
      "False\n",
      "True\n"
     ]
    }
   ],
   "source": [
    "#Negation\n",
    "print(not True)\n",
    "print(not False)"
   ]
  },
  {
   "cell_type": "markdown",
   "metadata": {},
   "source": [
    "## end and Joins"
   ]
  },
  {
   "cell_type": "code",
   "execution_count": 15,
   "metadata": {},
   "outputs": [
    {
     "name": "stdout",
     "output_type": "stream",
     "text": [
      "Text1Text2\n",
      "Text1 Text2\n",
      "T#e#x#t#1\n",
      "P a r r o t\n",
      "B l u e B i r d\n"
     ]
    }
   ],
   "source": [
    "#end and Joins\n",
    "print(\"Text1\",end='')\n",
    "print(\"Text2\")\n",
    "print(\"Text1\",end =' ')\n",
    "print(\"Text2\")\n",
    "print('#'.join(\"Text1\"))\n",
    "print(' '.join(\"Parrot\"))\n",
    "str1 = \"BlueBird\"\n",
    "print(' '.join(str1))"
   ]
  },
  {
   "cell_type": "markdown",
   "metadata": {},
   "source": [
    "## Argument pass and unpack"
   ]
  },
  {
   "cell_type": "code",
   "execution_count": 16,
   "metadata": {},
   "outputs": [
    {
     "data": {
      "text/plain": [
       "'\\n#Using import module argv\\nfrom sys import argv\\n\\n#Unpack and assign\\nscript , number1 ,number2 = argv\\nprint(number1)\\nprint(number2)\\n'"
      ]
     },
     "execution_count": 16,
     "metadata": {},
     "output_type": "execute_result"
    }
   ],
   "source": [
    "'''\n",
    "#Argument pass and unpack\n",
    "'''\n",
    "'''\n",
    "#Using import module argv\n",
    "from sys import argv\n",
    "\n",
    "#Unpack and assign\n",
    "script , number1 ,number2 = argv\n",
    "print(number1)\n",
    "print(number2)\n",
    "'''"
   ]
  },
  {
   "cell_type": "markdown",
   "metadata": {},
   "source": [
    "## Text File read,write,truncate,copy"
   ]
  },
  {
   "cell_type": "markdown",
   "metadata": {},
   "source": [
    "from sys import argv\n",
    "script, filename1, filename2, filename3, filename4, filename5 = argv\n",
    "#File Reading and writing"
   ]
  },
  {
   "cell_type": "code",
   "execution_count": 17,
   "metadata": {},
   "outputs": [
    {
     "name": "stdout",
     "output_type": "stream",
     "text": [
      "Comments are very important while writing a program. \n",
      "It describes what's going on inside a program so that a person \n",
      "looking at the source code does not have a hard time figuring it out. \n",
      "You might forget the key details of the program you just wrote in a month's time. \n",
      "So taking time to explain these concepts in form of comments is always fruitful.\n",
      "In Python, we use the hash (#) symbol to start writing a comment.\n"
     ]
    }
   ],
   "source": [
    "#If argv used then replace file1.txt by filename1, file2.txt by filename2 etc.\n",
    "\n",
    "#Open file. Read by default\n",
    "txt1 = open('file1.txt')\n",
    "#Read and print\n",
    "print(txt1.read())\n",
    "txt1.close()\n",
    "\n",
    "#Open and write\n",
    "#Auto-truncates txt2\n",
    "txt2 = open('file2.txt','w')\n",
    "#w+ , r+, a+ open for read and write\n",
    "#a+ is for append\n",
    "#txt2 = open(filename3 ,'w+')\n",
    "#print(txt2.read()) #This will be empty\n",
    "#Writes new line and Hello in txt2\n",
    "txt2.write(\"\\n\")\n",
    "txt2.write(\"Hello\")\n",
    "#Closing files\n",
    "txt2.close()\n",
    "\n",
    "#Truncation\n",
    "txt3 = open('file3.txt','w')\n",
    "txt3.truncate()\n",
    "txt3.close()\n",
    "\n",
    "#Read from one file and write to other file\n",
    "txt4 = open('file4.txt')\n",
    "txt4_dummy = txt4.read()\n",
    "txt5 = open('file5.txt','w')\n",
    "txt5.write(txt4_dummy)\n",
    "\n",
    "txt4.close()\n",
    "txt5.close()"
   ]
  },
  {
   "cell_type": "markdown",
   "metadata": {},
   "source": [
    "Run its as below if using argv  \n",
    "python abc.py file1.txt file2.txt file3.txt file4.txt file5.txt"
   ]
  },
  {
   "cell_type": "markdown",
   "metadata": {},
   "source": [
    "## File Read, write,readline,seek"
   ]
  },
  {
   "cell_type": "code",
   "execution_count": 18,
   "metadata": {},
   "outputs": [
    {
     "name": "stdout",
     "output_type": "stream",
     "text": [
      "Entire file:\n",
      "Comments are very important while writing a program. \n",
      "It describes what's going on inside a program so that a person \n",
      "looking at the source code does not have a hard time figuring it out. \n",
      "You might forget the key details of the program you just wrote in a month's time. \n",
      "So taking time to explain these concepts in form of comments is always fruitful.\n",
      "In Python, we use the hash (#) symbol to start writing a comment.\n",
      "========================================\n",
      "First Line:\n",
      "Comments are very important while writing a program. \n",
      "\n",
      "Second Line:\n",
      "It describes what's going on inside a program so that a person \n",
      "\n",
      "========================================\n",
      "Use for loop to read each line of the file:\n",
      "It describes what's going on inside a program so that a person \n",
      "\n",
      "You might forget the key details of the program you just wrote in a month's time. \n",
      "\n",
      "In Python, we use the hash (#) symbol to start writing a comment.\n",
      "========================================\n",
      "Using seek to move to start of the text and then first 4 chars: \n",
      "Comm\n",
      "========================================\n",
      "Using readline(1) to print one char: \n",
      "e\n"
     ]
    }
   ],
   "source": [
    "#File read, write, realine, seek\n",
    "#Open file. Read by default\n",
    "txt1 = open('file1.txt','r')\n",
    "#Read and print entire file\n",
    "print(f\"Entire file:\\n{txt1.read()}\")\n",
    "\n",
    "#Move to start of text\n",
    "txt1.seek(0)\n",
    "\n",
    "#Print first and second line\n",
    "print(\"=\"*40)\n",
    "print(\"First Line:\")\n",
    "print(txt1.readline())\n",
    "#Second Line is printed\n",
    "print(\"Second Line:\")\n",
    "print(txt1.readline())\n",
    "print(\"=\"*40)\n",
    "\n",
    "#Move to start of text\n",
    "txt1.seek(0)\n",
    "print(\"Use for loop to read each line of the file:\")\n",
    "for i in txt1:\n",
    "    print(txt1.readline())\n",
    "\n",
    "#Move to start of file\n",
    "print(\"=\"*40)\n",
    "print(\"Using seek to move to start of the text and then first 4 chars: \")\n",
    "txt1.seek(0)\n",
    "print(txt1.read(4))\n",
    "\n",
    "#Read char\n",
    "print(\"=\"*40)\n",
    "print(\"Using readline(1) to print one char: \")\n",
    "print(txt1.readline(1))\n",
    "\n",
    "txt1.close()"
   ]
  },
  {
   "cell_type": "markdown",
   "metadata": {},
   "source": [
    "## More Seek"
   ]
  },
  {
   "cell_type": "code",
   "execution_count": 19,
   "metadata": {},
   "outputs": [
    {
     "name": "stdout",
     "output_type": "stream",
     "text": [
      "Comments are very important while writing a program. \n",
      "It describes what's going on inside a program so that a person \n",
      "looking at the source code does not have a hard time figuring it out. \n",
      "You might forget the key details of the program you just wrote in a month's time. \n",
      "So taking time to explain these concepts in form of comments is always fruitful.\n",
      "In Python, we use the hash (#) symbol to start writing a comment.\n",
      "n\n",
      "Comments are very important while writing a program. \n",
      "It describes what's going on inside a program so that a person \n",
      "looking at the source code does not have a hard time figuring it out. \n",
      "You might forget the key details of the program you just wrote in a month's time. \n",
      "So taking time to explain these concepts in form of comments is always fruitful.\n",
      "In Python, we use the hash (#) symbol to start writing a comment.\n",
      "re very importa\n"
     ]
    }
   ],
   "source": [
    "#f.seek(offset, from_what)\n",
    "\n",
    "#Read using open function\n",
    "text1 = open('file1.txt','r')\n",
    "print(text1.read())\n",
    "#Move to 5 char from start of text\n",
    "text1.seek(5)\n",
    "#Read 1 char after seek \n",
    "print(text1.read(1))\n",
    "\n",
    "#Read using open function and with\n",
    "with open('file5.txt', 'r') as f:\n",
    "    print(f.read())\n",
    "    #Move to 10 char from start of text\n",
    "    f.seek(10)\n",
    "    #Read 15 char after seek \n",
    "    print(f.read(15))\n"
   ]
  },
  {
   "cell_type": "markdown",
   "metadata": {},
   "source": [
    "## Augmented assigments"
   ]
  },
  {
   "cell_type": "code",
   "execution_count": 20,
   "metadata": {},
   "outputs": [
    {
     "name": "stdout",
     "output_type": "stream",
     "text": [
      "10\n",
      "8\n",
      "16\n",
      "8.0\n",
      "4.0\n",
      "1.0\n",
      "Hello World\n"
     ]
    }
   ],
   "source": [
    "var1 = 5\n",
    "var1 += 5\n",
    "print(var1)\n",
    "var1 -= 2\n",
    "print(var1)\n",
    "var1 *= 2\n",
    "print(var1)\n",
    "var1 /= 2\n",
    "print(var1)\n",
    "var1 //= 2\n",
    "print(var1)\n",
    "var1 %= 3\n",
    "print(var1)\n",
    "\n",
    "str =\"Hello\"\n",
    "str +=\" \"\n",
    "str +=\"World\"\n",
    "print(str)"
   ]
  },
  {
   "cell_type": "markdown",
   "metadata": {},
   "source": [
    "## Text Processing"
   ]
  },
  {
   "cell_type": "code",
   "execution_count": 21,
   "metadata": {},
   "outputs": [
    {
     "name": "stdout",
     "output_type": "stream",
     "text": [
      "Python treats all uppercase letters to be lower than lowercase letters.\n",
      "\n",
      "Text with Lower and Upper Case Words:\n",
      "========================================\n",
      "Printing split word list:\n",
      "Comments\n",
      "are\n",
      "very\n",
      "important\n",
      "while\n",
      "writing\n",
      "a\n",
      "program\n",
      "========================================\n",
      "Printing sorted list using sorted() function:\n",
      "Comments\n",
      "a\n",
      "are\n",
      "important\n",
      "program\n",
      "very\n",
      "while\n",
      "writing\n",
      "========================================\n",
      "Printing sorted list using sort() function:\n",
      "Comments\n",
      "a\n",
      "are\n",
      "important\n",
      "program\n",
      "very\n",
      "while\n",
      "writing\n",
      "\n",
      "\n",
      "Text with Lower Case Words:\n",
      "========================================\n",
      "Printing split word list:\n",
      "comments\n",
      "are\n",
      "very\n",
      "important\n",
      "while\n",
      "writing\n",
      "a\n",
      "program\n",
      "========================================\n",
      "Printing sorted list using sorted() function:\n",
      "a\n",
      "are\n",
      "comments\n",
      "important\n",
      "program\n",
      "very\n",
      "while\n",
      "writing\n",
      "========================================\n",
      "Printing sorted list using sort() function:\n",
      "a\n",
      "are\n",
      "comments\n",
      "important\n",
      "program\n",
      "very\n",
      "while\n",
      "writing\n",
      "\n",
      "\n",
      "Text with Upper Case Words:\n",
      "========================================\n",
      "Split and Sorted ist:\n",
      "['A', 'ARE', 'COMMENTS', 'IMPORTANT', 'PROGRAM', 'VERY', 'WHILE', 'WRITING']\n",
      "\n",
      "Print First Word: A\n",
      "Print Second Word: COMMENTS\n",
      "Print Second Last Word: WHILE\n",
      "Print Last Word WRITING\n"
     ]
    }
   ],
   "source": [
    "#Python treats all uppercase letters to be lower than lowercase letters.\n",
    "def txt_processor(txt):\n",
    "        #Text Processing\n",
    "        print(\"=\"*40)\n",
    "        words = txt.split(' ')\n",
    "        #print(type(words)) #List\n",
    "        \n",
    "        words = txt.split(' ')\n",
    "        #print(type(words))  #List\n",
    "        \n",
    "        print(\"Printing split word list:\")\n",
    "        for i in words:\n",
    "            print(i)\n",
    "        \n",
    "        #Sort and Sorting\n",
    "        print(\"=\"*40)\n",
    "        words2 = txt.split(' ')\n",
    "        #print(type(words2))  #List\n",
    "        sorted_words = sorted(words2)\n",
    "        print(\"Printing sorted list using sorted() function:\")\n",
    "        #Sorted return List\n",
    "        for i in sorted_words:\n",
    "            print(i)\n",
    "        print(\"=\"*40)\n",
    "        words2.sort()\n",
    "        print(\"Printing sorted list using sort() function:\")\n",
    "        #sort doesnot return anything. It works on the object.\n",
    "        for i in words2:\n",
    "            print(i)\n",
    "\n",
    "def pop_fn(txt,num):\n",
    "    print(txt.pop(num))\n",
    "\n",
    "\n",
    "#Function call:\n",
    "print(\"Python treats all uppercase letters to be lower than lowercase letters.\\n\")\n",
    "print(\"Text with Lower and Upper Case Words:\")\n",
    "Text1 = \"Comments are very important while writing a program\"\n",
    "txt_processor(Text1)\n",
    "\n",
    "print(\"\\n\\nText with Lower Case Words:\")\n",
    "Text2 = Text1.lower()\n",
    "txt_processor(Text2)\n",
    "\n",
    "print(\"\\n\\nText with Upper Case Words:\")\n",
    "print(\"=\"*40)\n",
    "Text3 = Text1.upper()\n",
    "words3 = Text3.split(' ')\n",
    "words3 = sorted(words3)\n",
    "print(\"Split and Sorted ist:\")\n",
    "print(words3)\n",
    "print(\"\\nPrint First Word:\",end=' ')\n",
    "pop_fn(words3,0)\n",
    "print(\"Print Second Word:\",end=' ')\n",
    "pop_fn(words3,1)\n",
    "print(\"Print Second Last Word:\",end=' ')\n",
    "pop_fn(words3,-2)\n",
    "print(\"Print Last Word\",end=' ')\n",
    "pop_fn(words3,-1)\n",
    "\n",
    "\n"
   ]
  },
  {
   "cell_type": "markdown",
   "metadata": {},
   "source": [
    "## While Loop"
   ]
  },
  {
   "cell_type": "code",
   "execution_count": 22,
   "metadata": {},
   "outputs": [
    {
     "name": "stdout",
     "output_type": "stream",
     "text": [
      "0\n",
      "1\n",
      "2\n",
      "3\n",
      "4\n",
      "5\n"
     ]
    }
   ],
   "source": [
    "i = 0\n",
    "while i  < 6:\n",
    "    print(i)\n",
    "    i +=1\n"
   ]
  },
  {
   "cell_type": "markdown",
   "metadata": {},
   "source": [
    "## Break, Continue , Pass"
   ]
  },
  {
   "cell_type": "code",
   "execution_count": 23,
   "metadata": {},
   "outputs": [
    {
     "name": "stdout",
     "output_type": "stream",
     "text": [
      "Enter a number to demonstrate a break :3\n",
      "0\n",
      "1\n",
      "2\n",
      "Enter a number to demonstrate continue:6\n",
      "0\n",
      "1\n",
      "2\n",
      "4\n",
      "5\n"
     ]
    }
   ],
   "source": [
    "var1 = int(input(\"Enter a number to demonstrate a break :\"))\n",
    "\n",
    "for i in range(var1):\n",
    "    if i == 3:\n",
    "        break\n",
    "    print(i)\n",
    "\n",
    "var2 = int(input(\"Enter a number to demonstrate continue:\"))\n",
    "for i in range(var2):\n",
    "    if i == 3:\n",
    "        continue\n",
    "    print(i)\n",
    "\n",
    "\n",
    "sequence = {'a', 'b', 'c', 'd'}\n",
    "for val in sequence:\n",
    "    pass"
   ]
  },
  {
   "cell_type": "markdown",
   "metadata": {},
   "source": [
    "## Else usage in for and while loops."
   ]
  },
  {
   "cell_type": "code",
   "execution_count": 24,
   "metadata": {},
   "outputs": [
    {
     "name": "stdout",
     "output_type": "stream",
     "text": [
      "10 exists in sequence.\n",
      "20 exists in sequence.\n",
      "30 exists in sequence.\n",
      "40 exists in sequence.\n",
      "50 doesnot exists in sequence.\n",
      "\n",
      "\n",
      "========================================\n",
      "\n",
      "\n",
      "Enter a number between 10 and 15>>12\n",
      "Number is 12\n",
      "Number is 11\n",
      "Number is 10\n",
      "Number is less than 10\n"
     ]
    }
   ],
   "source": [
    "sequence = [10,20,30,40]\n",
    "for i in sequence:\n",
    "    print(f\"{i} exists in sequence.\")\n",
    "else:\n",
    "    i += 10\n",
    "    print(f\"{i} doesnot exists in sequence.\")\n",
    "\n",
    "print(\"\\n\")\n",
    "print(\"=\" * 40)\n",
    "print(\"\\n\")\n",
    "num1 = int(input(\"Enter a number between 10 and 15>>\"))\n",
    "while num1 >= 10:\n",
    "    print(f\"Number is {num1}\")\n",
    "    num1 -= 1\n",
    "else:\n",
    "    print(\"Number is less than 10\")"
   ]
  },
  {
   "cell_type": "markdown",
   "metadata": {},
   "source": [
    "## Multiplication table generator"
   ]
  },
  {
   "cell_type": "code",
   "execution_count": 25,
   "metadata": {},
   "outputs": [
    {
     "name": "stdout",
     "output_type": "stream",
     "text": [
      "Multiplication table of 1:\n",
      "1 x 1 = 1\n",
      "1 x 2 = 2\n",
      "1 x 3 = 3\n",
      "1 x 4 = 4\n",
      "1 x 5 = 5\n",
      "1 x 6 = 6\n",
      "1 x 7 = 7\n",
      "1 x 8 = 8\n",
      "1 x 9 = 9\n",
      "1 x 10 = 10\n",
      "==================================================\n",
      "Multiplication table of 2:\n",
      "2 x 1 = 2\n",
      "2 x 2 = 4\n",
      "2 x 3 = 6\n",
      "2 x 4 = 8\n",
      "2 x 5 = 10\n",
      "2 x 6 = 12\n",
      "2 x 7 = 14\n",
      "2 x 8 = 16\n",
      "2 x 9 = 18\n",
      "2 x 10 = 20\n",
      "==================================================\n",
      "Multiplication table of 3:\n",
      "3 x 1 = 3\n",
      "3 x 2 = 6\n",
      "3 x 3 = 9\n",
      "3 x 4 = 12\n",
      "3 x 5 = 15\n",
      "3 x 6 = 18\n",
      "3 x 7 = 21\n",
      "3 x 8 = 24\n",
      "3 x 9 = 27\n",
      "3 x 10 = 30\n",
      "==================================================\n",
      "Multiplication table of 4:\n",
      "4 x 1 = 4\n",
      "4 x 2 = 8\n",
      "4 x 3 = 12\n",
      "4 x 4 = 16\n",
      "4 x 5 = 20\n",
      "4 x 6 = 24\n",
      "4 x 7 = 28\n",
      "4 x 8 = 32\n",
      "4 x 9 = 36\n",
      "4 x 10 = 40\n",
      "==================================================\n",
      "Multiplication table of 5:\n",
      "5 x 1 = 5\n",
      "5 x 2 = 10\n",
      "5 x 3 = 15\n",
      "5 x 4 = 20\n",
      "5 x 5 = 25\n",
      "5 x 6 = 30\n",
      "5 x 7 = 35\n",
      "5 x 8 = 40\n",
      "5 x 9 = 45\n",
      "5 x 10 = 50\n",
      "==================================================\n"
     ]
    }
   ],
   "source": [
    "#Multiplication table for first five numbers\n",
    "for i in range(1,6):\n",
    "    print(f\"Multiplication table of {i}:\")\n",
    "    for j in range(1,11):\n",
    "        print(f\"{i} x {j} = {(i * j)}\")\n",
    "    print(\"=\"*50)\n",
    "\n"
   ]
  },
  {
   "cell_type": "markdown",
   "metadata": {},
   "source": [
    "## Function "
   ]
  },
  {
   "cell_type": "code",
   "execution_count": 26,
   "metadata": {},
   "outputs": [
    {
     "name": "stdout",
     "output_type": "stream",
     "text": [
      "This is function definition.\n",
      "\n",
      "Function with Arguments\n",
      "First argument is 10\n",
      "Second arument is 20\n",
      "\n",
      "\n",
      "This function returns value 30\n",
      "\n",
      "\n",
      "****************************************\n",
      "Sum: 60\n",
      "Difference: 20\n",
      "Product: 800\n",
      "Division: 2.0\n",
      "Floor Division: 2\n",
      "Exponent: 109951162777600000000000000000000\n"
     ]
    }
   ],
   "source": [
    "def fun1():\n",
    "    print(\"This is function definition.\")\n",
    "\n",
    "def fun2(a,b):\n",
    "    print(\"\\nFunction with Arguments\")\n",
    "    print(f\"First argument is {a}\")\n",
    "    print(f\"Second arument is {b}\")\n",
    "\n",
    "def funrtr(a,b):\n",
    "    print(\"This function returns value\",end =' ')\n",
    "    return a + b\n",
    "\n",
    "def calculator(a,b):\n",
    "    print(\"Sum:\",(a + b))\n",
    "    print(\"Difference:\",(a - b))\n",
    "    print(\"Product:\",(a * b))\n",
    "    print(\"Division:\",(a / b))\n",
    "    print(\"Floor Division:\",(a // b))\n",
    "    print(\"Exponent:\",(a**b))\n",
    "\n",
    "#Function call:\n",
    "fun1()\n",
    "fun2(10,20)\n",
    "print(\"\\n\")\n",
    "var1 = funrtr(10,20)\n",
    "print(var1)\n",
    "\n",
    "print(\"\\n\")\n",
    "print(\"*\"*40)\n",
    "calculator(40,20)"
   ]
  },
  {
   "cell_type": "markdown",
   "metadata": {},
   "source": [
    "## Lists"
   ]
  },
  {
   "cell_type": "code",
   "execution_count": 27,
   "metadata": {},
   "outputs": [
    {
     "name": "stdout",
     "output_type": "stream",
     "text": [
      "Concept of List\n",
      "==================================================\n",
      "List fruits: ['Apple', 'Pear', 'Banana']\n",
      "Length:3\n",
      "First Element of List : Apple\n",
      "Last Element of List : Banana\n",
      "Slicing List: ['Apple', 'Pear']\n",
      "\n",
      "Using for loop to display all elements of the List.\n",
      "Apple\n",
      "Pear\n",
      "Banana\n",
      "\n",
      "Update List fruits :['Apple', 'Pear', 'Banana', 'Orange']\n",
      "Checking for existance of Orange and Kiwi list.\n",
      "Orange in List fruits.\n",
      "No Kiwi in List fruits.\n",
      "[]\n",
      "[1, 2, 4, 8, 16, 32, 64, 128, 256, 512]\n",
      "\n",
      "Adding Kiwi in List\n",
      "Update List fruits :['Apple', 'Pear', 'Banana', 'Kiwi', 'Orange']\n",
      "\n",
      "Replacing First element with Guava\n",
      "Update List fruits :['Guava', 'Pear', 'Banana', 'Kiwi', 'Orange']\n",
      "\n",
      "Removing Pear from List.\n",
      "Update List fruits :['Guava', 'Banana', 'Kiwi', 'Orange']\n",
      "\n",
      "Delete Orange from List.\n",
      "Update List fruits :['Guava', 'Banana', 'Kiwi']\n",
      "\n",
      "Clearing the List.\n",
      "Update List fruits :[]\n",
      "\n",
      "Deleting fruits list.\n",
      "Fruits List deleted\n",
      "==================================================\n",
      "List in List\n",
      "List 1 of Even numbers :[0, 2, 4, 6, 8]\n",
      "List 2 of Odd numbers :[1, 3, 5, 7, 9]\n",
      "Joining the List.\n",
      "Number List: [[0, 2, 4, 6, 8], [1, 3, 5, 7, 9]]\n",
      "Print Entire List:\n",
      "0\n",
      "2\n",
      "4\n",
      "6\n",
      "8\n",
      "1\n",
      "3\n",
      "5\n",
      "7\n",
      "9\n",
      "\n",
      "Remove element using pop() function\n",
      "Even List:[0, 2, 4, 6, 8]\n",
      "Remove first element.\n",
      "Updated List:[2, 4, 6, 8]\n",
      "Remove last element.\n",
      "Updated List:[2, 4, 6]\n",
      "Extended List:[0, 1, 2, 3, 4, 5, 6, 7, 8, 9, 10, 11, 12, 13, 14, 15, 16, 17, 18, 19]\n",
      "\n",
      "Orignal List : [4, 5, 6, 7]\n",
      "Copied list by using assigment operator: [4, 5, 6, 7]\n",
      "==================================================\n",
      "Copied List after appending data: [4, 5, 6, 7, 11]\n",
      "Orignal List: [4, 5, 6, 7, 11]\n",
      "Both are the same. The orignal lsit has been changed.\n",
      "\n",
      "\n",
      "==================================================\n",
      "Now using copy() method:\n",
      "Orignal List:[9, 10, 11, 12]\n",
      "Copied list by using copy function: [9, 10, 11, 12]\n",
      "==================================================\n",
      "Copied List after appending data: [9, 10, 11, 12, 23]\n",
      "Orignal List: [9, 10, 11, 12]\n",
      "Orignal List Unchnaged.\n",
      "==================================================\n",
      "New List:[12, 78, 0, 56, 89, 98, 11, 6, 4, 7]\n",
      "Reverse List:[7, 4, 6, 11, 98, 89, 56, 0, 78, 12]\n",
      "Sorted List:[0, 4, 6, 7, 11, 12, 56, 78, 89, 98]\n"
     ]
    }
   ],
   "source": [
    "#List. Always with [] seperated by commas.\n",
    "print(\"Concept of List\")\n",
    "print(\"=\" * 50)\n",
    "fruits = ['Apple','Pear','Banana']\n",
    "print(f\"List fruits: {fruits}\")\n",
    "print(f\"Length:{len(fruits)}\")\n",
    "\n",
    "#First and Last Element\n",
    "print(f\"First Element of List : {fruits[0]}\")\n",
    "print(f\"Last Element of List : {fruits[-1]}\")\n",
    "\n",
    "#Slicing within List:\n",
    "print(f\"Slicing List: {fruits[0:2]}\")\n",
    "\n",
    "#Loop to display all elements\n",
    "print(\"\\nUsing for loop to display all elements of the List.\")\n",
    "for i in range(len(fruits)):\n",
    "    print(fruits[i])\n",
    "\n",
    "#Append to List\n",
    "#Append add to end of List\n",
    "fruits.append('Orange')\n",
    "print(f\"\\nUpdate List fruits :{fruits}\")\n",
    "\n",
    "#Check for an element in List\n",
    "print(\"Checking for existance of Orange and Kiwi list.\")\n",
    "for i in range(len(fruits)):\n",
    "    if fruits[i] == 'Orange':\n",
    "        print(\"Orange in List fruits.\")\n",
    "        break\n",
    "else:\n",
    "    print(\"No Orange in List\")\n",
    "\n",
    "for i in range(len(fruits)):\n",
    "    if fruits[i] == 'Kiwi':\n",
    "        print(\"Kiwi in List fruits.\")\n",
    "        break\n",
    "else:\n",
    "    print(\"No Kiwi in List fruits.\")\n",
    "\n",
    "#Empty List\n",
    "empty_l = []\n",
    "print(empty_l)\n",
    "\n",
    "#List comprehension\n",
    "list_comp = [2 ** x for x in range(10)]\n",
    "print(list_comp)\n",
    "#Equivalent to\n",
    "'''pow2 = []\n",
    "for x in range(10):\n",
    "   pow2.append(2 ** x)'''\n",
    "\n",
    "#Insert \n",
    "#Insert doesnot replace but add at specific index\n",
    "fruits.insert(3,'Kiwi')\n",
    "print(\"\\nAdding Kiwi in List\")\n",
    "print(f\"Update List fruits :{fruits}\")\n",
    "\n",
    "#Change data on some index\n",
    "fruits[0] ='Guava'\n",
    "print(\"\\nReplacing First element with Guava\")\n",
    "print(f\"Update List fruits :{fruits}\")\n",
    "\n",
    "#Remove/Delete from List\n",
    "#Remove one element\n",
    "print(\"\\nRemoving Pear from List.\")\n",
    "fruits.remove('Pear')\n",
    "print(f\"Update List fruits :{fruits}\")\n",
    "#Delete one element\n",
    "print(\"\\nDelete Orange from List.\")\n",
    "del fruits[3]\n",
    "print(f\"Update List fruits :{fruits}\")\n",
    "#List Clearance\n",
    "print(\"\\nClearing the List.\")\n",
    "fruits.clear()\n",
    "print(f\"Update List fruits :{fruits}\")\n",
    "#Delete fruit list\n",
    "print(\"\\nDeleting fruits list.\")\n",
    "del fruits\n",
    "try:\n",
    "    print(f\"Update List fruits :{fruits}\")\n",
    "except:\n",
    "    print(\"Fruits List deleted\")\n",
    "\n",
    "print(\"=\" * 50)\n",
    "print(\"List in List\")\n",
    "even = [0,2,4,6,8]\n",
    "print(f\"List 1 of Even numbers :{even}\")\n",
    "\n",
    "odd = [1,3,5,7,9]\n",
    "print(f\"List 2 of Odd numbers :{odd}\")\n",
    "\n",
    "numbers =[even , odd]\n",
    "print(\"Joining the List.\")\n",
    "print(f\"Number List: {numbers}\")\n",
    "print(\"Print Entire List:\")\n",
    "for i in numbers:\n",
    "    for j in i:\n",
    "        print(j)\n",
    "\n",
    "\n",
    "print(\"\\nRemove element using pop() function\")\n",
    "print(f\"Even List:{even}\")\n",
    "print(\"Remove first element.\")\n",
    "even.pop(0)\n",
    "print(f\"Updated List:{even}\")\n",
    "print(\"Remove last element.\")\n",
    "even.pop(-1)\n",
    "print(f\"Updated List:{even}\")\n",
    "\n",
    "#Another way to create List\n",
    "#my_List = list(range(100))\n",
    "#print(my_List)\n",
    "\n",
    "#List Extension\n",
    "list_a = list(range(10))\n",
    "list_b = list(range(10,20))\n",
    "list_a.extend(list_b)\n",
    "print(f\"Extended List:{list_a}\")\n",
    "\n",
    "#List Copy\n",
    "\n",
    "list_c = [4,5,6,7]\n",
    "print(f\"\\nOrignal List : {list_c}\")\n",
    "list_c_copy = list_c\n",
    "print(f\"Copied list by using assigment operator: {list_c_copy}\")\n",
    "\n",
    "list_c_copy.append(11)\n",
    "print(\"=\"*50)\n",
    "print(f\"Copied List after appending data: {list_c_copy}\")\n",
    "print(f\"Orignal List: {list_c}\")\n",
    "print(\"Both are the same. The orignal lsit has been changed.\")\n",
    "\n",
    "print(\"\\n\")\n",
    "print(\"=\"*50)\n",
    "print(\"Now using copy() method:\")\n",
    "list_d = [9,10,11,12]\n",
    "print(f\"Orignal List:{list_d}\")\n",
    "\n",
    "list_d_copy = list_d.copy()\n",
    "print(f\"Copied list by using copy function: {list_d_copy}\")\n",
    "\n",
    "list_d_copy.append(23)\n",
    "print(\"=\"*50)\n",
    "print(f\"Copied List after appending data: {list_d_copy}\")\n",
    "print(f\"Orignal List: {list_d}\")\n",
    "print(\"Orignal List Unchnaged.\")\n",
    "\n",
    "#List Reversal\n",
    "print(\"=\"*50)\n",
    "list_e = [12, 78,0,56,89,98,11,6,4,7]\n",
    "print(f\"New List:{list_e}\")\n",
    "list_e.reverse()\n",
    "print(f\"Reverse List:{list_e}\")\n",
    "list_e.sort()\n",
    "\n",
    "print(f\"Sorted List:{list_e}\")"
   ]
  },
  {
   "cell_type": "markdown",
   "metadata": {},
   "source": [
    "## Tuples"
   ]
  },
  {
   "cell_type": "code",
   "execution_count": 28,
   "metadata": {},
   "outputs": [
    {
     "name": "stdout",
     "output_type": "stream",
     "text": [
      "Tuple:('a', 'b', 'c')\n",
      "\n",
      "Print Individual Tuple Element:\n",
      "a\n",
      "b\n",
      "c\n",
      "==================================================\n",
      "New Tuple:\n",
      "('Welcome to the Train', 'John', '2019')\n",
      "\n",
      "First element:\n",
      "Welcome to the Train\n",
      "\n",
      "Updated Tuples:\n",
      "('Welcome to the Train', 'Adam', '2019')\n",
      "==================================================\n",
      "Advantages of Tuple over List\n",
      "Since, tuples are quite similiar to lists, both of them are used in similar situations as well.\n",
      "However, there are certain advantages of implementing a tuple over a list. \n",
      "Below listed are some of the main advantages:\n",
      "\t1)We generally use tuple for heterogeneous (different) datatypes and list for homogeneous (similar) datatypes.\n",
      "\t2)Since tuple are immutable, iterating through tuple is faster than with list. So there is a slight performance \n",
      "\t  boost.\n",
      "\t3)Tuples that contain immutable elements can be used as key for a dictionary. With list, this is not possible.\n",
      "\t4)If you have data that doesn't change, implementing it as tuple will guarantee that it remains write-protected.\n",
      "\n",
      "==================================================\n",
      "Tuple Un-pack\n",
      "Tuple Song:('Stairways to Heaven', 'Led Zepplin', 1971)\n",
      "Track:Stairways to Heaven\n",
      "Artist:Led Zepplin\n",
      "Year:1971\n",
      "==================================================\n",
      "Tuple in Tuple\n",
      "Tuple for Rock Song :\n",
      "('Rock', '1970s', (('Stairways to Heaven', 'Led Zepplin'), ('Hey Jude', 'Beatles'), ('We Will Rock You', 'Queen')))\n",
      "Genre: Rock\n",
      "Era:1970s\n",
      "Tracks and Artitst:(('Stairways to Heaven', 'Led Zepplin'), ('Hey Jude', 'Beatles'), ('We Will Rock You', 'Queen'))\n",
      "Record 1:\n",
      "Stairways to Heaven\n",
      " -- Led Zepplin\n",
      "Record 2:\n",
      "Hey Jude\n",
      " -- Beatles\n",
      "Record 3:\n",
      "We Will Rock You\n",
      " -- Queen\n",
      "==================================================\n",
      "List in Tuple :\n",
      "('Rock', '1970s', ['Stairways to Heaven', 'Led Zepplin'])\n",
      "Genre: Rock\n",
      "Era:1970s\n",
      "Tracks and Artitst:['Stairways to Heaven', 'Led Zepplin']\n",
      "\n",
      "List in Tuple (updated) :\n",
      "('Rock', '1970s', ['Stairways to Heaven', 'Led Zepplin', 'Hey Jude', 'Beatles', 'We Will Rock You', 'Queen'])\n",
      "\n",
      "Printing List which exists in tuples:\n",
      "Stairways to Heaven\n",
      "Led Zepplin\n",
      "Hey Jude\n",
      "Beatles\n",
      "We Will Rock You\n",
      "Queen\n",
      "==================================================\n",
      "Index of Rock : 0\n",
      "Index of 1970s: 1\n",
      "No of times Rock appers in tuple:1\n",
      "==================================================\n",
      "t1 =  ('P', 'y', 't', 'h', 'o', 'n')\n",
      "Single Element Tuple: ('Hello',)\n"
     ]
    }
   ],
   "source": [
    "#Tuples\n",
    "#Tuples are immutable\n",
    "tup = (\"a\",\"b\",\"c\")\n",
    "print(f\"Tuple:{tup}\")\n",
    "print(\"\\nPrint Individual Tuple Element:\")\n",
    "for i in tup:\n",
    "    print(i)\n",
    "\n",
    "print(\"=\"*50)\n",
    "print(\"New Tuple:\")\n",
    "welcome = \"Welcome to the Train\",\"John\",\"2019\"\n",
    "print(welcome)\n",
    "print(\"\\nFirst element:\")\n",
    "print(welcome[0])\n",
    "\n",
    "#Tuples are immutable. The below statement will result in error\n",
    "#welcome[1] = 'Adam'\n",
    "\n",
    "#Tuples are immutable, however they can be re-assigned\n",
    "welcome = \"Welcome to the Train\",\"Adam\",\"2019\"\n",
    "\n",
    "print(\"\\nUpdated Tuples:\")\n",
    "print(welcome)\n",
    "print(\"=\"*50)\n",
    "print('''Advantages of Tuple over List\n",
    "Since, tuples are quite similiar to lists, both of them are used in similar situations as well.\n",
    "However, there are certain advantages of implementing a tuple over a list. \n",
    "Below listed are some of the main advantages:\n",
    "\\t1)We generally use tuple for heterogeneous (different) datatypes and list for homogeneous (similar) datatypes.\n",
    "\\t2)Since tuple are immutable, iterating through tuple is faster than with list. So there is a slight performance \n",
    "\\t  boost.\n",
    "\\t3)Tuples that contain immutable elements can be used as key for a dictionary. With list, this is not possible.\n",
    "\\t4)If you have data that doesn't change, implementing it as tuple will guarantee that it remains write-protected.\\n''')\n",
    "\n",
    "print(\"=\"*50)\n",
    "print(\"Tuple Un-pack\")\n",
    "#Tuple element Un-packing\n",
    "Song = 'Stairways to Heaven','Led Zepplin',1971\n",
    "track,artist,year = Song\n",
    "print(f\"Tuple Song:{Song}\")\n",
    "print(f\"Track:{track}\")\n",
    "print(f\"Artist:{artist}\")\n",
    "print(f\"Year:{year}\")\n",
    "\n",
    "print(\"=\"*50)\n",
    "print(\"Tuple in Tuple\")\n",
    "Sng = (\"Rock\", \"1970s\",((\"Stairways to Heaven\",\"Led Zepplin\"),(\"Hey Jude\",\"Beatles\"),(\"We Will Rock You\",\"Queen\")))\n",
    "print(f\"Tuple for Rock Song :\\n{Sng}\")\n",
    "genre,era,trk_n_artist = Sng\n",
    "len_t = len(\"Stairways to Heaven\")\n",
    "print(f\"Genre: {genre}\")\n",
    "print(f\"Era:{era}\")\n",
    "print(f\"Tracks and Artitst:{trk_n_artist}\")\n",
    "cnt = 1 \n",
    "for i in trk_n_artist:\n",
    "    print(f\"Record {cnt}:\")\n",
    "    print(f\"{i[0]}\\n -- {i[1]}\")\n",
    "    cnt +=1\n",
    "\n",
    "print(\"=\"*50)\n",
    "Sng_lst= (\"Rock\", \"1970s\",[\"Stairways to Heaven\",\"Led Zepplin\"])\n",
    "print(f\"List in Tuple :\\n{Sng_lst}\")\n",
    "genre_2,era_2,trk_n_artist_2 = Sng_lst\n",
    "print(f\"Genre: {genre_2}\")\n",
    "print(f\"Era:{era_2}\")\n",
    "print(f\"Tracks and Artitst:{trk_n_artist_2}\")\n",
    "trk_n_artist_2.append(\"Hey Jude\")\n",
    "trk_n_artist_2.append(\"Beatles\")\n",
    "trk_n_artist_2.append(\"We Will Rock You\")\n",
    "trk_n_artist_2.append(\"Queen\")\n",
    "print(f\"\\nList in Tuple (updated) :\\n{Sng_lst}\")\n",
    "\n",
    "print(\"\\nPrinting List which exists in tuples:\")\n",
    "for i in trk_n_artist_2:\n",
    "    print(i)\n",
    "\n",
    "'''Individal element access via Index: \n",
    "print(Sng_lst[1])\n",
    "print(Sng_lst[2][0])'''\n",
    "\n",
    "'''we cannot change the elements in a tuple. That also means we cannot delete or remove items from a tuple.\n",
    "But deleting a tuple entirely is possible using the keyword del.\n",
    "del Sng_lst\n",
    "'''\n",
    "print(\"=\"*50)\n",
    "print(f\"Index of Rock : {Sng_lst.index ('Rock')}\")\n",
    "print(f\"Index of 1970s: {Sng_lst.index ('1970s')}\")\n",
    "      \n",
    "print(f\"No of times Rock appers in tuple:{Sng_lst.count('Rock')}\")\n",
    "print(\"=\"*50)\n",
    "t1 = tuple()\n",
    "t1 = tuple('Python')\n",
    "print('t1 = ',t1)\n",
    "#Single Element tuple\n",
    "tup_s = (\"Hello\",)\n",
    "print(f\"Single Element Tuple: {tup_s}\")\n"
   ]
  },
  {
   "cell_type": "markdown",
   "metadata": {},
   "source": [
    "## Ranges"
   ]
  },
  {
   "cell_type": "code",
   "execution_count": 87,
   "metadata": {},
   "outputs": [
    {
     "name": "stdout",
     "output_type": "stream",
     "text": [
      "range(0, 100)\n",
      "List of range 100 : [0, 1, 2, 3, 4, 5, 6, 7, 8, 9, 10, 11, 12, 13, 14, 15, 16, 17, 18, 19, 20, 21, 22, 23, 24, 25, 26, 27, 28, 29, 30, 31, 32, 33, 34, 35, 36, 37, 38, 39, 40, 41, 42, 43, 44, 45, 46, 47, 48, 49, 50, 51, 52, 53, 54, 55, 56, 57, 58, 59, 60, 61, 62, 63, 64, 65, 66, 67, 68, 69, 70, 71, 72, 73, 74, 75, 76, 77, 78, 79, 80, 81, 82, 83, 84, 85, 86, 87, 88, 89, 90, 91, 92, 93, 94, 95, 96, 97, 98, 99]\n",
      "List of even numbers : [0, 2, 4, 6, 8]\n",
      "List of odd numbers : [1, 3, 5, 7, 9]\n",
      "\n",
      "\n",
      "range(0, 10)\n",
      "0\n",
      "2\n",
      "9\n",
      "\n",
      "\n",
      "Hello\n",
      "H\n",
      "l\n",
      "2\n",
      "\n",
      "List details:\n",
      "0\n",
      "1\n",
      "2\n",
      "3\n",
      "4\n",
      "5\n",
      "6\n",
      "7\n",
      "8\n",
      "9\n",
      "\n",
      "Negative Slicing\n",
      "9\n",
      "7\n",
      "5\n",
      "3\n",
      "1\n",
      "\n",
      "\n",
      "9\n",
      "7\n",
      "5\n",
      "3\n",
      "1\n",
      "\n",
      "\n",
      "No Output\n",
      "\n",
      "Palindrome Check\n",
      "Text 1:madam\n",
      "Text_2:madam\n",
      "String are equal.\n",
      "\n",
      "\n",
      "Number List:\n",
      "0\n",
      "4\n",
      "8\n",
      "12\n",
      "16\n",
      "20\n",
      "24\n",
      "28\n",
      "32\n",
      "36\n",
      "40\n",
      "44\n",
      "48\n",
      "52\n",
      "56\n",
      "60\n",
      "64\n",
      "68\n",
      "72\n",
      "76\n",
      "80\n",
      "84\n",
      "88\n",
      "92\n",
      "96\n",
      "\n",
      "\n",
      "Sliced List every 5 slice:\n",
      "0\n",
      "20\n",
      "40\n",
      "60\n",
      "80\n"
     ]
    }
   ],
   "source": [
    "print(range(100))\n",
    "\n",
    "my_List = list(range(100))\n",
    "print(f\"List of range 100 : {my_List}\")\n",
    "\n",
    "even = list(range(0,10,2))\n",
    "print(f\"List of even numbers : {even}\")\n",
    "odd = list(range(1,10,2))\n",
    "print(f\"List of odd numbers : {odd}\")\n",
    "\n",
    "#Index\n",
    "print(\"\\n\")\n",
    "num = range(0,10)\n",
    "print(num)\n",
    "print(num[0])\n",
    "print(num[2])\n",
    "print(num.index(9))\n",
    "\n",
    "print(\"\\n\")\n",
    "string1 = \"Hello\"\n",
    "print(string1)\n",
    "print(string1[0])\n",
    "print(string1[2])\n",
    "print(string1.index('l'))\n",
    "\n",
    "#Negative Slicing\n",
    "print(\"\\nList details:\")\n",
    "for i in num:\n",
    "    print(i)\n",
    "\n",
    "print(\"\\nNegative Slicing\")\n",
    "#Negative Slicing when used implicitly reverses the index\n",
    "for i in num[::-2]:\n",
    "    print(i)\n",
    "    \n",
    "print(\"\\n\")\n",
    "for i in num[10:0:-2]:\n",
    "    print(i)\n",
    "\n",
    "#Negative Slicing when used implicitly reverses the index\n",
    "#However when explicitly mentioned it fails\n",
    "print(\"\\n\")\n",
    "print(\"No Output\")\n",
    "for i in num[0:10:-2]:\n",
    "    print(i)\n",
    "\n",
    "#Negative Slicing Palindrome Slicing\n",
    "print(\"\\nPalindrome Check\")\n",
    "text_1 = \"madam\"\n",
    "print(f\"Text 1:{text_1}\")\n",
    "text_2 = text_1[::-1]\n",
    "print(f\"Text_2:{text_2}\")\n",
    "if text_1 == text_2:\n",
    "    print(\"String are equal.\")\n",
    "else:\n",
    "    print(\"String are un-equal.\")\n",
    "    \n",
    "O_range = range(0,100,4)\n",
    "P_range = O_range[::5]\n",
    "\n",
    "print(\"\\n\")\n",
    "print(\"Number List:\")\n",
    "for i in O_range:\n",
    "    print(i)\n",
    "\n",
    "print(\"\\n\")\n",
    "print(\"Sliced List every 5 slice:\")\n",
    "for i in P_range:\n",
    "    print(i)"
   ]
  },
  {
   "cell_type": "markdown",
   "metadata": {},
   "source": [
    "## Iteration and iter()"
   ]
  },
  {
   "cell_type": "code",
   "execution_count": null,
   "metadata": {},
   "outputs": [],
   "source": [
    "text = \"Hello\"\n",
    "my_iteration = iter(text)\n",
    "print(my_iteration)\n",
    "print(type(my_iteration))\n",
    "print(\"\\nIteration using iter() class.\")\n",
    "print(next(my_iteration))\n",
    "print(next(my_iteration))\n",
    "print(next(my_iteration))\n",
    "print(next(my_iteration))\n",
    "print(next(my_iteration))\n",
    "#print(next(my_iteration)) will give an error\n",
    "try:\n",
    "    print(next(my_iteration))\n",
    "except:\n",
    "    print(\"End of Iteration.\")\n",
    "\n",
    "\n",
    "print(\"\\nIteration using for loop\")\n",
    "for i in text:\n",
    "    print(i)"
   ]
  },
  {
   "cell_type": "markdown",
   "metadata": {},
   "source": [
    "# Enumerate"
   ]
  },
  {
   "cell_type": "markdown",
   "metadata": {},
   "source": [
    "The enumerate() method adds counter to an iterable and returns it (the enumerate object).\n",
    "The syntax of enumerate() is:\n",
    "\n",
    "enumerate(iterable, start=0)"
   ]
  },
  {
   "cell_type": "code",
   "execution_count": null,
   "metadata": {},
   "outputs": [],
   "source": [
    "grocery = ['bread', 'milk', 'butter']\n",
    "enumerateGrocery = enumerate(grocery)\n",
    "\n",
    "print(type(enumerateGrocery))\n",
    "\n",
    "# converting to list\n",
    "print(list(enumerateGrocery))\n",
    "\n",
    "# changing the default counter\n",
    "enumerateGrocery = enumerate(grocery, 10)\n",
    "print(list(enumerateGrocery))"
   ]
  },
  {
   "cell_type": "markdown",
   "metadata": {},
   "source": [
    "# all() function"
   ]
  },
  {
   "cell_type": "markdown",
   "metadata": {},
   "source": [
    "The all() method returns True when all elements in the given iterable are true. If not, it returns False.\n",
    "\n",
    "The all() method returns:\n",
    "True - If all elements in an iterable are true\n",
    "False - If any element in an iterable is false"
   ]
  },
  {
   "cell_type": "code",
   "execution_count": null,
   "metadata": {},
   "outputs": [],
   "source": [
    "# all values true\n",
    "l = [1, 3, 4, 5]\n",
    "print(all(l))\n",
    "\n",
    "# all values false\n",
    "l = [0, False]\n",
    "print(all(l))\n",
    "\n",
    "# one false value\n",
    "l = [1, 3, 4, 0]\n",
    "print(all(l))\n",
    "\n",
    "# one true value\n",
    "l = [0, False, 5]\n",
    "print(all(l))\n",
    "\n",
    "# empty iterable\n",
    "l = []\n",
    "print(all(l))"
   ]
  },
  {
   "cell_type": "markdown",
   "metadata": {},
   "source": [
    "# any() function"
   ]
  },
  {
   "cell_type": "markdown",
   "metadata": {},
   "source": [
    "any() returns:\n",
    "\n",
    "True if at least one element of an iterable is true.\n",
    "\n",
    "False if all elements are false or if an iterable is empty"
   ]
  },
  {
   "cell_type": "code",
   "execution_count": null,
   "metadata": {},
   "outputs": [],
   "source": [
    "l = [1, 3, 4, 0]\n",
    "print(any(l))\n",
    "\n",
    "l = [0, False]\n",
    "print(any(l))\n",
    "\n",
    "l = [0, False, 5]\n",
    "print(any(l))\n",
    "\n",
    "l = []\n",
    "print(any(l))"
   ]
  },
  {
   "cell_type": "markdown",
   "metadata": {},
   "source": [
    "## Dictonary"
   ]
  },
  {
   "cell_type": "code",
   "execution_count": null,
   "metadata": {},
   "outputs": [],
   "source": [
    "#Dictionary \n",
    "# variable = {key:value, key: value,key: value}\n",
    "#Values mutable but keys are immutable\n",
    "\n",
    "'''# empty dictionary\n",
    "my_dict = {}\n",
    "\n",
    "# dictionary with integer keys\n",
    "my_dict = {1: 'apple', 2: 'ball'}\n",
    "\n",
    "# dictionary with mixed keys\n",
    "my_dict = {'name': 'John', 1: [2, 4, 3]}\n",
    "\n",
    "# using dict()\n",
    "my_dict = dict({1:'apple', 2:'ball'})\n",
    "\n",
    "# from sequence having each item as a pair\n",
    "my_dict = dict([(1,'apple'), (2,'ball')])'''\n",
    "\n",
    "fruits = {'OR':'Orange',\n",
    "         'PR':'Pear',\n",
    "         'AP':'Apple'}\n",
    "\n",
    "print(fruits)\n",
    "for i in fruits:\n",
    "    print(f\"{i}:{fruits[i]}\")\n",
    "\n",
    "    \n",
    "key_tup = ('OR','PR','AP')\n",
    "for i in key_tup:\n",
    "    print(fruits[i])\n",
    "\n",
    "#Adding Grapes with key GR to dictonary fruits    \n",
    "fruits['GR'] = 'Grapes'\n",
    "print(\"Updated Dictonary fruits:\")\n",
    "print(fruits)\n",
    "fruits['GR'] ='Black Grapes'\n",
    "print(\"Overwriting Grapes  and so updated Dictonary fruits:\")\n",
    "print(fruits)\n",
    "\n",
    "del fruits\n",
    "try:\n",
    "    print(fruits)\n",
    "except:\n",
    "    print(\"Dictionary Deleted.\")\n",
    "\n",
    "print(\"=\"*50)\n",
    "#Re-assign tuples\n",
    "key_tup = ('OR','PR','AP','GR')\n",
    "print(key_tup)\n",
    "val_list = ['Orange','Pear','Apple','Grapes']\n",
    "print(key_tup)\n",
    "fruits = dict({key_tup:val_list})\n",
    "print(\"Bad way of using tuples and list in dictonary\")\n",
    "print(fruits)\n",
    "del fruits\n",
    "'''Above is bad way of using tuples and list in dictonary'''\n",
    "\n",
    "print(\"=\"*50)\n",
    "key_tup = ('OR','PR','AP','GR')\n",
    "print(key_tup)\n",
    "val_list = ['Orange','Pear','Apple','Grapes']\n",
    "print(val_list)\n",
    "print(\"Good way of using tuples and list in dictonary\")\n",
    "fruits = {key_tup[0]:val_list[0],key_tup[1]:val_list[1],key_tup[2]:val_list[2],key_tup[3]:val_list[3]}\n",
    "print(fruits)\n",
    "\n",
    "'''\n",
    "Individual element key and value deletion in dictionary\n",
    "del fruits['GR']\n",
    "print(fruits)\n",
    "'''\n",
    "print(\"=\"*50)\n",
    "print(fruits.items())\n",
    "print(\"Using loop and multiple variable assignment to print individual items.\")\n",
    "for i,j in list(fruits.items()):\n",
    "    print(f\"Key is {i} and Value is {j}\")\n",
    "\n",
    "print(\"=\"*50)\n",
    "print(\"Searching the dictionary and retreiving value using get() function.\")\n",
    "val1 = fruits.get('GR')    \n",
    "print(val1)\n",
    "\n",
    "'''\n",
    "Python 2\n",
    "print(\"=\"*50)\n",
    "val2 = fruits.has_key('Orange')\n",
    "print(val2)\n",
    "'''\n",
    "\n",
    "print(\"=\"*50)\n",
    "fruits.clear()\n",
    "print(\"Clearing dictonary fruits\")\n",
    "print(\"Empty dictonary fruits:\")\n",
    "print(fruits)\n",
    "\n",
    "print(\"=\"*50)\n",
    "print(\"Dictionary Creation using update() function.\")\n",
    "fruits = {'OR':'Orange',\n",
    "         'PR':'Pear',\n",
    "         'AP':'Apple'}\n",
    "veg = {'TM':'Tomato',\n",
    "         'SP':'Spinach',\n",
    "         'PO':'Potato'}\n",
    "market ={}\n",
    "market.update(fruits)\n",
    "print(market)\n",
    "market.update(veg)\n",
    "print(market)\n",
    "\n",
    "market_2 = market.copy()\n",
    "print(market_2)"
   ]
  },
  {
   "cell_type": "markdown",
   "metadata": {},
   "source": [
    "## Set"
   ]
  },
  {
   "cell_type": "markdown",
   "metadata": {},
   "source": [
    "A set is an unordered collection of items. Every element is unique (no duplicates) and must be immutable (which cannot be changed).\n",
    "\n",
    "However, the set itself is mutable. We can add or remove items from it.\n",
    "\n",
    "Sets can be used to perform mathematical set operations like union, intersection, symmetric difference etc."
   ]
  },
  {
   "cell_type": "code",
   "execution_count": null,
   "metadata": {},
   "outputs": [],
   "source": [
    "#Same as Dictionary but no key\n",
    "fruits ={\"Orange\",\"Apple\",\"Pear\"}\n",
    "print(fruits)\n",
    "for i in fruits:\n",
    "    print(i)\n",
    "\n",
    "#Doesnot create a set but a dictionary is created\n",
    "#set_a ={}\n",
    "set_a =set()\n",
    "print(type(set_a))\n",
    "\n",
    "#Another way to create set. From List\n",
    "veg = set([\"Tomato\",\"Potato\",\"Spinach\"])\n",
    "print(veg)\n",
    "\n",
    "fruits.add(\"Grape\")\n",
    "veg.add(\"Celery\")\n",
    "\n",
    "print(fruits)\n",
    "print(veg)\n",
    "\n",
    "#Set from range,tuples,list\n",
    "set_rng = set(range(0,100,2))\n",
    "set_tup = set(('Tomato','Apple','Spinach'))\n",
    "set_lst = set([2,5,6,7,8])\n",
    "\n",
    "''' \n",
    "print(set_rng)\n",
    "print(set_tup)\n",
    "print(set_lst\n",
    "'''\n",
    "# set do not have duplicates\n",
    "# Output: {1, 2, 3, 4}\n",
    "my_set = {1,2,3,4,3,2}\n",
    "print(my_set)\n",
    "\n",
    "# set cannot have mutable items\n",
    "# here [3, 4] is a mutable list\n",
    "# If you uncomment line #12,\n",
    "# this will cause an error.\n",
    "# TypeError: unhashable type: 'list'\n",
    "#my_set2 = {1, 2, [3, 4]}\n",
    "#print(my_set2)\n",
    "\n",
    "#Add or remove elements from Set\n",
    "set_new ={2,4,7,9,10}\n",
    "\n",
    "#set_new[0]\n",
    "#TypeError: 'set' object does not support indexing\n",
    "    \n",
    "'''\n",
    "A set is an unordered collection of items. Every element is unique (no duplicates) and must be immutable (which cannot be changed).\n",
    "However, the set itself is mutable. We can add or remove items from it.Sets can be used to perform \n",
    "mathematical set operations like union, intersection, symmetric difference etc.\n",
    "'''\n",
    "#Add to set similar to append in list\n",
    "set_new.add(12)\n",
    "print(set_new)\n",
    "\n",
    "#Add multiple elements -List\n",
    "set_new.update([20,21,22])\n",
    "print(set_new)\n",
    "\n",
    "#Add multiple elements -Tuples and another List\n",
    "set_new.update((23,23,25),{26,27,28})\n",
    "print(set_new)\n",
    "\n",
    "#Remove using discard() and remove()\n",
    "set_new.remove(23)\n",
    "set_new.discard(24)\n",
    "#set_new.remove(24)\n",
    "#When remvoe used for non-existing items in the set, it will throw error. However, discard will not.\n",
    "set_new.discard(26)\n",
    "\n",
    "print(set_new)\n",
    "#o/p:{2, 4, 7, 9, 10, 12, 20, 21, 22, 25, 27, 28}\n",
    "\n",
    "#Pop randomly removes elements\n",
    "set_new.pop()\n",
    "print(set_new)\n",
    "#o/p:{4, 7, 9, 10, 12, 20, 21, 22, 25, 27, 28}\n",
    "set_new.pop()\n",
    "print(set_new)\n",
    "#o/p:{7, 9, 10, 12, 20, 21, 22, 25, 27, 28}\n",
    "\n",
    "#Clear a set\n",
    "set_new.clear()\n",
    "print(set_new)\n",
    "#o/p: set()\n",
    "\n",
    "'''\n",
    "even = set(range(0,40,2))\n",
    "even_2 = set(range(0,10,2))\n",
    "odd = set(range(1,40,2))\n",
    "\n",
    "#UNION\n",
    "union_set = even.union(odd)\n",
    "print(union_set)\n",
    "\n",
    "#union_set2 = even|odd\n",
    "#print(union_set2)\n",
    "\n",
    "#INTERSECTION\n",
    "#inter_set = even.intersection(odd)\n",
    "inter_set = even.intersection(even_2)\n",
    "print(inter_set)\n",
    "\n",
    "#inter_set2 = even & even_2\n",
    "#print(inter_set_2)\n",
    "\n",
    "#DIFFERENCE\n",
    "Difference of A and B (A - B) is a set of elements that are only in A but not in B. \n",
    "Similarly, B - A is a set of element in B but not in A.\n",
    "\n",
    "diff_set = even.difference(even_2)\n",
    "#diff_set = even - even_2\n",
    "print(diff_set)\n",
    "\n",
    "#SYMMETRIC DIFFERENCE \n",
    "#Symmetric Difference of A and B is a set of elements in both A and B except those that are common in both.\n",
    "A = {1, 2, 3, 4, 5}\n",
    "B = {4, 5, 6, 7, 8}\n",
    "sym_diff = A ^ B\n",
    "'''\n",
    "#SET OPERATIONS:\n",
    "A = {1, 2, 3, 4, 5}\n",
    "B = {4, 5, 6, 7, 8}\n",
    "print(\"=\" * 50)\n",
    "print(\"Set Operations:\")\n",
    "print(f\"Set A : {A}\")\n",
    "print(f\"Set B : {B}\")\n",
    "#Union : A | B\n",
    "#Set of all elements of A and B but will not have duplicates as it is a set property.\n",
    "print(f\"Union: {A.union(B)}\")\n",
    "\n",
    "#Intersection : A & B\n",
    "#Set of whats common in both\n",
    "print(f\"Intersection: {A.intersection(B)}\")\n",
    "\n",
    "#Difference : A - B\n",
    "#Set of whats unique in A \n",
    "print(f\"Difference :{A.difference(B)}\")\n",
    "\n",
    "#Symmetric Difference : A ^ B\n",
    "#Set of whats not comman in both\n",
    "print(f\"Symmetric Difference : {A.symmetric_difference(B)}\")\n",
    "\n",
    "print(\"=\" * 50)\n",
    "print(\"Sets:\")\n",
    "print(f\"Set A : {A}\")\n",
    "print(f\"Set B : {B}\")\n",
    "print(\"Performing Difference Update\")\n",
    "A.difference_update(B)\n",
    "print(\"Sets after difference update:\")\n",
    "print(f\"Set A : {A}\")\n",
    "print(f\"Set B : {B}\")\n",
    "print('''Why ?\n",
    "The difference_update() updates set A with the set difference of A-B.\n",
    "A will be equal to A-B\n",
    "B will be unchanged\n",
    "''')\n",
    "\n",
    "#Subset and Superset\n",
    "\n",
    "a = {1,2}\n",
    "b = {1,2,3,4}\n",
    "\n",
    "print(a.issubset(b))\n",
    "print(a.issuperset(b))\n",
    "print(b.issuperset(a))\n",
    "\n",
    "#Disjoint\n",
    "#No common element\n",
    "print(\"=\" * 50)\n",
    "c = {3,4,5}\n",
    "print(a.isdisjoint(c))\n",
    "\n",
    "#Frozen Set\n",
    "abc =frozenset(range(0,100,2))\n",
    "#abc.add(3)\n",
    "#abc.remove(2)\n",
    "#abc.discard(4)\n",
    "#abc.difference_update(b)\n",
    "#add,remove,discard,difference_update will cause errors\n",
    "#union, intersetion, difference is allowed "
   ]
  },
  {
   "cell_type": "markdown",
   "metadata": {},
   "source": [
    "## Object Orinented Python"
   ]
  },
  {
   "cell_type": "markdown",
   "metadata": {},
   "source": [
    "One of the popular approach to solve a programming problem is by creating objects. This is known as Object-Oriented Programming (OOP).\n",
    "\n",
    "An object has two characteristics:attributes,behavior\n",
    "\n",
    "Ex. \n",
    "Parrot is an object:\n",
    "<li>name, age, color are attributes,\n",
    "<li>singing, dancing are behavior\n",
    "\n",
    "<p></p>\n",
    "<p><b>Important concepts:</b></p>\n",
    "<p><li><b>Inheritance</b>:\tA process of using details from a new class without modifying existing class</p>\n",
    "\n",
    "<p><li><b>Encapsulation</b>:\tHiding the private details of a class from other objects.</p>\n",
    "\n",
    "<p><li><b>Polymorphism</b>\tA concept of using common operation in different ways for different data input.</p>\n",
    "\n",
    "\n",
    "<b>Constructors in Python</b>\n",
    "\n",
    "Class functions that begins with double underscore (__) are called special functions as they have special meaning.\n",
    "\n",
    "Of one particular interest is the __init__() function. This special function gets called whenever a new object of that class is instantiated.\n",
    "\n",
    "This type of function is also called constructors in Object Oriented Programming (OOP). We normally use it to initialize all the variables."
   ]
  },
  {
   "cell_type": "code",
   "execution_count": 102,
   "metadata": {},
   "outputs": [
    {
     "name": "stdout",
     "output_type": "stream",
     "text": [
      "Kettle Details:\n",
      "==================================================\n",
      "Make: Kenwood\n",
      "Price: $16.75\n",
      "Switch Status: False\n",
      "\n",
      "\n",
      "Make: Hamilton\n",
      "Price: $12.5\n",
      "Switch Status: False\n",
      "==================================================\n",
      "New Kettle Details:\n",
      "Make: Bosch\n",
      "Price: $19.05\n",
      "Switch Status: False\n",
      "==================================================\n",
      "Updated Switch Status:\n",
      "Make: Kenwood\n",
      "Price: $16.75\n",
      "Switch Status: True\n",
      "\n",
      "\n",
      "Make: Hamilton\n",
      "Price: $12.5\n",
      "Switch Status: True\n",
      "\n",
      "\n",
      "Make: Bosch\n",
      "Price: $19.05\n",
      "Switch Status: True\n",
      "==================================================\n",
      "Updated Attributes on an object:\n",
      "Make: Kenwood\n",
      "Price: $16.75\n",
      "Switch Status: True\n",
      "Power:100W\n",
      "==================================================\n",
      "Electricity\n",
      "Electricity\n",
      "Electricity\n",
      "Electricity\n",
      "==================================================\n",
      "{'__module__': '__main__', 'power_source': 'Electricity', '__init__': <function Kettle.__init__ at 0x0000017D0110C048>, 'switch_on': <function Kettle.switch_on at 0x0000017D0110C268>, '__dict__': <attribute '__dict__' of 'Kettle' objects>, '__weakref__': <attribute '__weakref__' of 'Kettle' objects>, '__doc__': None}\n",
      "{'make': 'Kenwood', 'price': 16.75, 'on': True, 'power': '100W'}\n",
      "{'make': 'Hamilton', 'price': 12.5, 'on': True}\n",
      "{'make': 'Bosch', 'price': 19.05, 'on': True}\n",
      "Only Kettle has attribute power_source and none of the objects have attribute power_source in __dict__.\n",
      "==================================================\n",
      "Updated Attributes\n",
      "Electricity\n",
      "Electricity\n",
      "Atomic\n",
      "Gas\n",
      "==================================================\n",
      "{'__module__': '__main__', 'power_source': 'Electricity', '__init__': <function Kettle.__init__ at 0x0000017D0110C048>, 'switch_on': <function Kettle.switch_on at 0x0000017D0110C268>, '__dict__': <attribute '__dict__' of 'Kettle' objects>, '__weakref__': <attribute '__weakref__' of 'Kettle' objects>, '__doc__': None}\n",
      "{'make': 'Kenwood', 'price': 16.75, 'on': True, 'power': '100W'}\n",
      "{'make': 'Hamilton', 'price': 12.5, 'on': True, 'power_source': 'Atomic'}\n",
      "{'make': 'Bosch', 'price': 19.05, 'on': True, 'power_source': 'Gas'}\n",
      "Now Hamilton and Bosch has power_source attributes in __dict__.\n"
     ]
    }
   ],
   "source": [
    "class Kettle(object):\n",
    "    power_source = \"Electricity\"\n",
    "    \n",
    "    def __init__(self,make,price):\n",
    "        self.make = make\n",
    "        self.price = price\n",
    "        self.on = False\n",
    "    def switch_on(self):\n",
    "        self.on = True\n",
    "\n",
    "#Instantiating class Kettle object Kenwood and Hamilton\n",
    "Kenwood = Kettle(\"Kenwood\", 16.75)\n",
    "Hamilton = Kettle(\"Hamilton\",12.50)\n",
    "\n",
    "print(\"Kettle Details:\")\n",
    "print(\"=\"*50)\n",
    "print(f\"Make: {Kenwood.make}\")\n",
    "print(f\"Price: ${Kenwood.price}\")\n",
    "print(f\"Switch Status: {Kenwood.on}\")\n",
    "print(\"\\n\")\n",
    "print(f\"Make: {Hamilton.make}\")\n",
    "print(f\"Price: ${Hamilton.price}\")\n",
    "print(f\"Switch Status: {Hamilton.on}\")\n",
    "print(\"=\"*50)\n",
    "\n",
    "#Delete attribute\n",
    "'''\n",
    "del Kenwood.make\n",
    "print(f\"Make: {Kenwood.make}\")\n",
    "'''\n",
    "Bosch = Kettle(\"Bosch\",19.05)\n",
    "print(\"New Kettle Details:\")\n",
    "print(f\"Make: {Bosch.make}\")\n",
    "print(f\"Price: ${Bosch.price}\")\n",
    "print(f\"Switch Status: {Bosch.on}\")\n",
    "\n",
    "#Delete Object\n",
    "'''\n",
    "del Bosch\n",
    "print(f\"Make: {Bosch.make}\")\n",
    "print(f\"Price: ${Bosch.price}\")\n",
    "print(f\"Switch Status: {Bosch.on}\")\n",
    "\n",
    "On the command del Bosch, this binding is removed and the name Bosch is deleted from the corresponding namespace. \n",
    "The object however continues to exist in memory and if no other name is bound to it, it is later automatically destroyed.\n",
    "This automatic destruction of unreferenced objects in Python is also called garbage collection.\n",
    "'''\n",
    "\n",
    "#Calling Methods:\n",
    "#USING Objects to call methods\n",
    "Kenwood.switch_on()\n",
    "Hamilton.switch_on()\n",
    "\n",
    "#Using Class to call methods\n",
    "Kettle.switch_on(Bosch)\n",
    "\n",
    "print(\"=\"*50)\n",
    "print(\"Updated Switch Status:\")\n",
    "print(f\"Make: {Kenwood.make}\")\n",
    "print(f\"Price: ${Kenwood.price}\")\n",
    "print(f\"Switch Status: {Kenwood.on}\")\n",
    "print(\"\\n\")\n",
    "print(f\"Make: {Hamilton.make}\")\n",
    "print(f\"Price: ${Hamilton.price}\")\n",
    "print(f\"Switch Status: {Hamilton.on}\")\n",
    "print(\"\\n\")\n",
    "print(f\"Make: {Bosch.make}\")\n",
    "print(f\"Price: ${Bosch.price}\")\n",
    "print(f\"Switch Status: {Bosch.on}\")\n",
    "print(\"=\"*50)\n",
    "\n",
    "\n",
    "#Adding additional attributes to an object:\n",
    "Kenwood.power = '100W'\n",
    "print(\"Updated Attributes on an object:\")\n",
    "print(f\"Make: {Kenwood.make}\")\n",
    "print(f\"Price: ${Kenwood.price}\")\n",
    "print(f\"Switch Status: {Kenwood.on}\")\n",
    "print(f\"Power:{Kenwood.power}\")\n",
    "\n",
    "#Attribute Sharing:\n",
    "print(\"=\"*50)\n",
    "print(Kettle.power_source)\n",
    "print(Kenwood.power_source)\n",
    "print(Hamilton.power_source)\n",
    "print(Bosch.power_source)\n",
    "print(\"=\"*50)\n",
    "print(Kettle.__dict__)\n",
    "print(Kenwood.__dict__)\n",
    "print(Hamilton.__dict__)\n",
    "print(Bosch.__dict__)\n",
    "print('''Only Kettle has attribute power_source and none of the objects have attribute power_source in __dict__.''')\n",
    "\n",
    "#re-assign power_source for two of the object\n",
    "Hamilton.power_source = \"Atomic\"\n",
    "Bosch.power_source = \"Gas\"\n",
    "print(\"=\"*50)\n",
    "print(\"Updated Attributes\")\n",
    "print(Kettle.power_source)\n",
    "print(Kenwood.power_source)\n",
    "print(Hamilton.power_source)\n",
    "print(Bosch.power_source)\n",
    "print(\"=\"*50)\n",
    "print(Kettle.__dict__)\n",
    "print(Kenwood.__dict__)\n",
    "print(Hamilton.__dict__)\n",
    "print(Bosch.__dict__)\n",
    "print('''Now Hamilton and Bosch has power_source attributes in __dict__.''')"
   ]
  },
  {
   "cell_type": "markdown",
   "metadata": {},
   "source": [
    "<b> Inheritance </b>"
   ]
  },
  {
   "cell_type": "markdown",
   "metadata": {},
   "source": [
    "What is Inheritance?\n",
    "Inheritance is a powerful feature in object oriented programming.\n",
    "\n",
    "It refers to defining a new class with little or no modification to an existing class. The new class is called derived (or child) class and the one from which it inherits is called the base (or parent) class.\n"
   ]
  },
  {
   "cell_type": "code",
   "execution_count": 104,
   "metadata": {},
   "outputs": [
    {
     "data": {
      "text/plain": [
       "'\\nclass BaseClass:\\n  Body of base class\\nclass DerivedClass(BaseClass):\\n  Body of derived class\\n'"
      ]
     },
     "execution_count": 104,
     "metadata": {},
     "output_type": "execute_result"
    }
   ],
   "source": [
    "#Python Inheritance Syntax\n",
    "\"\"\"\n",
    "class BaseClass:\n",
    "  Body of base class\n",
    "class DerivedClass(BaseClass):\n",
    "  Body of derived class\n",
    "\"\"\""
   ]
  },
  {
   "cell_type": "code",
   "execution_count": null,
   "metadata": {},
   "outputs": [],
   "source": []
  },
  {
   "cell_type": "markdown",
   "metadata": {},
   "source": [
    "<b> Multiple Inheritance </b>"
   ]
  },
  {
   "cell_type": "markdown",
   "metadata": {},
   "source": []
  },
  {
   "cell_type": "markdown",
   "metadata": {},
   "source": [
    "<b> Operator Overloading </b>"
   ]
  },
  {
   "cell_type": "code",
   "execution_count": null,
   "metadata": {},
   "outputs": [],
   "source": []
  },
  {
   "cell_type": "markdown",
   "metadata": {},
   "source": [
    "## Lambda \\ Anonymous Functions"
   ]
  },
  {
   "cell_type": "markdown",
   "metadata": {},
   "source": [
    "Syntax  :  <b> lambda arguments: expression </b>\n",
    "\n",
    "We use lambda functions when we require a nameless function for a short period of time.\n",
    "\n",
    "In Python, we generally use it as an argument to a higher-order function (a function that takes in other functions as arguments). Lambda functions are used along with built-in functions like filter(), map() etc."
   ]
  },
  {
   "cell_type": "code",
   "execution_count": null,
   "metadata": {},
   "outputs": [],
   "source": [
    "double = lambda x: x * 2\n",
    "'''\n",
    "Same as:\n",
    "def double(x):\n",
    "   return x * 2\n",
    "'''\n",
    "# Output: 10\n",
    "print(double(5))"
   ]
  },
  {
   "cell_type": "markdown",
   "metadata": {},
   "source": [
    "<b>Filter Function</b>\n",
    "\n",
    "The filter() function in Python takes in a function and a list as arguments.\n",
    "\n",
    "The function is called with all the items in the list and a new list is \n",
    "returned which contains items for which the function evaluats to <b>True.\n",
    "<b> Checks condition and return value for true case>"
   ]
  },
  {
   "cell_type": "code",
   "execution_count": null,
   "metadata": {},
   "outputs": [],
   "source": [
    "my_list = [1, 5, 4, 6, 8, 11, 3, 12]\n",
    "\n",
    "new_list = list(filter(lambda x: (x%2 == 0) , my_list))\n",
    "\n",
    "# Output: [4, 6, 8, 12]\n",
    "print(new_list)"
   ]
  },
  {
   "cell_type": "markdown",
   "metadata": {},
   "source": [
    "The map() function in Python takes in a function and a list.\n",
    "\n",
    "The function is called with all the items in the list and a new list is \n",
    "returned which contains items <b>returned</b> by that function for each item.\n",
    "<b>Basically Evaluates and return the output.</b>"
   ]
  },
  {
   "cell_type": "code",
   "execution_count": null,
   "metadata": {},
   "outputs": [],
   "source": [
    "my_list = [1, 5, 4, 6, 8, 11, 3, 12]\n",
    "\n",
    "new_list = list(map(lambda x: x * 2 , my_list))\n",
    "\n",
    "# Output: [2, 10, 8, 12, 16, 22, 6, 24]\n",
    "print(new_list)"
   ]
  },
  {
   "cell_type": "markdown",
   "metadata": {},
   "source": [
    "## Generators"
   ]
  },
  {
   "cell_type": "code",
   "execution_count": null,
   "metadata": {},
   "outputs": [],
   "source": []
  },
  {
   "cell_type": "markdown",
   "metadata": {},
   "source": [
    "## Date, Time and TimeZone"
   ]
  },
  {
   "cell_type": "markdown",
   "metadata": {},
   "source": [
    "<b>Get current date and Time using datetime class</b>"
   ]
  },
  {
   "cell_type": "code",
   "execution_count": 41,
   "metadata": {},
   "outputs": [
    {
     "name": "stdout",
     "output_type": "stream",
     "text": [
      "2019-04-20 11:59:33.057852\n"
     ]
    }
   ],
   "source": [
    "import datetime\n",
    "datetime_object = datetime.datetime.now()\n",
    "#OR\n",
    "#from datetime import datetime\n",
    "#datetime_object = datetime.now()\n",
    "\n",
    "print(datetime_object)\n"
   ]
  },
  {
   "cell_type": "code",
   "execution_count": 51,
   "metadata": {},
   "outputs": [
    {
     "name": "stdout",
     "output_type": "stream",
     "text": [
      "2018-11-28 00:00:00\n",
      "2017-11-28 23:55:59.342380\n",
      "year = 2017\n",
      "month = 11\n",
      "hour = 23\n",
      "minute = 55\n",
      "timestamp = 1511931359.34238\n"
     ]
    }
   ],
   "source": [
    "from datetime import datetime\n",
    "\n",
    "#datetime(year, month, day)\n",
    "a = datetime(2018, 11, 28)\n",
    "print(a)\n",
    "\n",
    "# datetime(year, month, day, hour, minute, second, microsecond)\n",
    "b = datetime(2017, 11, 28, 23, 55, 59, 342380)\n",
    "print(b)\n",
    "\n",
    "# datetime(year, month, day, hour, minute, second, timestamp)\n",
    "c = datetime(2017, 11, 28, 23, 55, 59, 342380)\n",
    "print(\"year =\", c.year)\n",
    "print(\"month =\", c.month)\n",
    "print(\"hour =\", c.hour)\n",
    "print(\"minute =\", c.minute)\n",
    "print(\"timestamp =\", c.timestamp())"
   ]
  },
  {
   "cell_type": "markdown",
   "metadata": {},
   "source": [
    "<b>Get current date using date class</b>"
   ]
  },
  {
   "cell_type": "code",
   "execution_count": 40,
   "metadata": {},
   "outputs": [
    {
     "name": "stdout",
     "output_type": "stream",
     "text": [
      "2019-04-20\n"
     ]
    }
   ],
   "source": [
    "import datetime\n",
    "date_object = datetime.date.today()\n",
    "#OR\n",
    "#from datetime import date\n",
    "#date_object = date.today()\n",
    "\n",
    "print(date_object)"
   ]
  },
  {
   "cell_type": "markdown",
   "metadata": {},
   "source": [
    "<b>dir() to check attributes of module datetime"
   ]
  },
  {
   "cell_type": "code",
   "execution_count": 35,
   "metadata": {},
   "outputs": [
    {
     "name": "stdout",
     "output_type": "stream",
     "text": [
      "['MAXYEAR', 'MINYEAR', '__builtins__', '__cached__', '__doc__', '__file__', '__loader__', '__name__', '__package__', '__spec__', '_divide_and_round', 'date', 'datetime', 'datetime_CAPI', 'time', 'timedelta', 'timezone', 'tzinfo']\n"
     ]
    }
   ],
   "source": [
    "import datetime\n",
    "print(dir(datetime))"
   ]
  },
  {
   "cell_type": "markdown",
   "metadata": {},
   "source": [
    "<b>Instantiate date objects from the date class<b>"
   ]
  },
  {
   "cell_type": "code",
   "execution_count": 32,
   "metadata": {},
   "outputs": [
    {
     "name": "stdout",
     "output_type": "stream",
     "text": [
      "2019-04-13\n"
     ]
    }
   ],
   "source": [
    "import datetime\n",
    "d = datetime.date(2019, 4, 13)\n",
    "#OR\n",
    "#from datetime import date\n",
    "#a = date(2019, 4, 13)\n",
    "print(d)"
   ]
  },
  {
   "cell_type": "markdown",
   "metadata": {},
   "source": [
    "<b>Get date from a timestamp<b>"
   ]
  },
  {
   "cell_type": "markdown",
   "metadata": {},
   "source": [
    "Create date objects from a timestamp. A Unix timestamp is the number of seconds between a particular date and January 1, 1970 (Unix Epoc) at UTC."
   ]
  },
  {
   "cell_type": "code",
   "execution_count": 42,
   "metadata": {},
   "outputs": [
    {
     "name": "stdout",
     "output_type": "stream",
     "text": [
      "Date = 2012-01-10\n"
     ]
    }
   ],
   "source": [
    "from datetime import date\n",
    "timestamp = date.fromtimestamp(1326244364)\n",
    "print(\"Date =\", timestamp)"
   ]
  },
  {
   "cell_type": "markdown",
   "metadata": {},
   "source": [
    "<b>Print today's year, month and day </b>"
   ]
  },
  {
   "cell_type": "code",
   "execution_count": 43,
   "metadata": {},
   "outputs": [
    {
     "name": "stdout",
     "output_type": "stream",
     "text": [
      "Current year: 2019\n",
      "Current month: 4\n",
      "Current day: 20\n"
     ]
    }
   ],
   "source": [
    "from datetime import date\n",
    "\n",
    "# date object of today's date\n",
    "today = date.today() \n",
    "\n",
    "print(\"Current year:\", today.year)\n",
    "print(\"Current month:\", today.month)\n",
    "print(\"Current day:\", today.day)"
   ]
  },
  {
   "cell_type": "markdown",
   "metadata": {},
   "source": [
    "<b>Time object to represent time</b>"
   ]
  },
  {
   "cell_type": "code",
   "execution_count": 49,
   "metadata": {},
   "outputs": [
    {
     "name": "stdout",
     "output_type": "stream",
     "text": [
      "a = 00:00:00\n",
      "b = 11:34:56\n",
      "c = 11:34:56\n",
      "d = 11:34:56.234566\n",
      "hour = 11\n",
      "minute = 34\n",
      "second = 56\n",
      "microsecond = 234566\n"
     ]
    }
   ],
   "source": [
    "from datetime import time\n",
    "\n",
    "# time(hour = 0, minute = 0, second = 0)\n",
    "a = time()\n",
    "print(\"a =\", a)\n",
    "\n",
    "# time(hour, minute and second)\n",
    "b = time(11, 34, 56)\n",
    "print(\"b =\", b)\n",
    "\n",
    "# time(hour, minute and second)\n",
    "c = time(hour = 11, minute = 34, second = 56)\n",
    "print(\"c =\", c)\n",
    "\n",
    "# time(hour, minute, second, microsecond)\n",
    "d = time(11, 34, 56, 234566)\n",
    "print(\"d =\", d)\n",
    "print(\"hour =\", d.hour)\n",
    "print(\"minute =\", d.minute)\n",
    "print(\"second =\", d.second)\n",
    "print(\"microsecond =\", d.microsecond)"
   ]
  },
  {
   "cell_type": "markdown",
   "metadata": {},
   "source": [
    "<b>datetime.timedelta</b>\n",
    "\n",
    "A timedelta object represents the difference between two dates or times."
   ]
  },
  {
   "cell_type": "code",
   "execution_count": 53,
   "metadata": {},
   "outputs": [
    {
     "name": "stdout",
     "output_type": "stream",
     "text": [
      "t3 = 201 days, 0:00:00\n",
      "t6 = -333 days, 1:14:20\n",
      "type of t3 = <class 'datetime.timedelta'>\n",
      "type of t6 = <class 'datetime.timedelta'>\n"
     ]
    }
   ],
   "source": [
    "from datetime import datetime, date\n",
    "\n",
    "t1 = date(year = 2018, month = 7, day = 12)\n",
    "t2 = date(year = 2017, month = 12, day = 23)\n",
    "t3 = t1 - t2\n",
    "print(\"t3 =\", t3)\n",
    "\n",
    "t4 = datetime(year = 2018, month = 7, day = 12, hour = 7, minute = 9, second = 33)\n",
    "t5 = datetime(year = 2019, month = 6, day = 10, hour = 5, minute = 55, second = 13)\n",
    "t6 = t4 - t5\n",
    "print(\"t6 =\", t6)\n",
    "\n",
    "print(\"type of t3 =\", type(t3)) \n",
    "print(\"type of t6 =\", type(t6))  "
   ]
  },
  {
   "cell_type": "code",
   "execution_count": 54,
   "metadata": {},
   "outputs": [
    {
     "name": "stdout",
     "output_type": "stream",
     "text": [
      "t3 = 14 days, 13:55:39\n"
     ]
    }
   ],
   "source": [
    "from datetime import timedelta\n",
    "\n",
    "t1 = timedelta(weeks = 2, days = 5, hours = 1, seconds = 33)\n",
    "t2 = timedelta(days = 4, hours = 11, minutes = 4, seconds = 54)\n",
    "t3 = t1 - t2\n",
    "\n",
    "print(\"t3 =\", t3)"
   ]
  },
  {
   "cell_type": "code",
   "execution_count": 55,
   "metadata": {},
   "outputs": [
    {
     "name": "stdout",
     "output_type": "stream",
     "text": [
      "t3 = -1 day, 23:59:39\n",
      "t3 = 0:00:21\n"
     ]
    }
   ],
   "source": [
    "from datetime import timedelta\n",
    "\n",
    "t1 = timedelta(seconds = 33)\n",
    "t2 = timedelta(seconds = 54)\n",
    "t3 = t1 - t2\n",
    "\n",
    "print(\"t3 =\", t3)\n",
    "print(\"t3 =\", abs(t3))"
   ]
  },
  {
   "cell_type": "code",
   "execution_count": 56,
   "metadata": {},
   "outputs": [
    {
     "name": "stdout",
     "output_type": "stream",
     "text": [
      "total seconds = 435633.233423\n"
     ]
    }
   ],
   "source": [
    "from datetime import timedelta\n",
    "\n",
    "t = timedelta(days = 5, hours = 1, seconds = 33, microseconds = 233423)\n",
    "print(\"total seconds =\", t.total_seconds())\n"
   ]
  },
  {
   "cell_type": "markdown",
   "metadata": {},
   "source": [
    "<b>Python format datetime</b>\n",
    "\n",
    "datetime to string\n",
    "\n",
    "The way date and time is represented may be different in different places, organizations etc. \n",
    "\n",
    "It's more common to use mm/dd/yyyy in the US, whereas dd/mm/yyyy is more common in the UK.\n",
    "\n",
    "The strftime() method is defined under classes date, datetime and time. \n",
    "\n",
    "The method creates a formatted string from a given date, datetime or time object.\n",
    "\n",
    "Here, %Y, %m, %d, %H etc. are format codes. \n",
    "\n",
    "The strftime() method takes one or more format codes and returns a formatted string based on it.\n",
    "\n",
    "In the above program, t, s1 and s2 are strings.\n",
    "\n",
    "%Y - year [0001,..., 2018, 2019,..., 9999]\n",
    "\n",
    "%m - month [01, 02, ..., 11, 12]\n",
    "\n",
    "%d - day [01, 02, ..., 30, 31]\n",
    "\n",
    "%H - hour [00, 01, ..., 22, 23\n",
    "\n",
    "%M - month [00, 01, ..., 58, 59]\n",
    "\n",
    "%S - second [00, 01, ..., 58, 59]"
   ]
  },
  {
   "cell_type": "code",
   "execution_count": 57,
   "metadata": {},
   "outputs": [
    {
     "name": "stdout",
     "output_type": "stream",
     "text": [
      "time: 12:53:23\n",
      "s1: 04/20/2019, 12:53:23\n",
      "s2: 20/04/2019, 12:53:23\n"
     ]
    }
   ],
   "source": [
    "from datetime import datetime\n",
    "\n",
    "# current date and time\n",
    "now = datetime.now()\n",
    "\n",
    "t = now.strftime(\"%H:%M:%S\")\n",
    "print(\"time:\", t)\n",
    "\n",
    "s1 = now.strftime(\"%m/%d/%Y, %H:%M:%S\")\n",
    "# mm/dd/YY H:M:S format\n",
    "print(\"s1:\", s1)\n",
    "\n",
    "s2 = now.strftime(\"%d/%m/%Y, %H:%M:%S\")\n",
    "# dd/mm/YY H:M:S format\n",
    "print(\"s2:\", s2)"
   ]
  },
  {
   "cell_type": "markdown",
   "metadata": {},
   "source": [
    "<b>Python strptime() - string to datetime</b>\n",
    "\n",
    "The strptime() method creates a datetime object from a given string (representing date and time)"
   ]
  },
  {
   "cell_type": "code",
   "execution_count": 58,
   "metadata": {},
   "outputs": [
    {
     "name": "stdout",
     "output_type": "stream",
     "text": [
      "date_string = 21 June, 2018\n",
      "date_object = 2018-06-21 00:00:00\n"
     ]
    }
   ],
   "source": [
    "from datetime import datetime\n",
    "\n",
    "date_string = \"21 June, 2018\"\n",
    "print(\"date_string =\", date_string)\n",
    "\n",
    "date_object = datetime.strptime(date_string, \"%d %B, %Y\")\n",
    "print(\"date_object =\", date_object)"
   ]
  },
  {
   "cell_type": "markdown",
   "metadata": {},
   "source": [
    "<b>sleep() Function</b>\n",
    "\n",
    "The sleep() function suspends execution of the current thread for a given number of seconds."
   ]
  },
  {
   "cell_type": "code",
   "execution_count": 59,
   "metadata": {},
   "outputs": [
    {
     "name": "stdout",
     "output_type": "stream",
     "text": [
      "Printed immediately.\n",
      "Printed after 2.4 seconds.\n"
     ]
    }
   ],
   "source": [
    "import time\n",
    "\n",
    "print(\"Printed immediately.\")\n",
    "time.sleep(2.4)\n",
    "print(\"Printed after 2.4 seconds.\")"
   ]
  },
  {
   "cell_type": "markdown",
   "metadata": {},
   "source": [
    "<b> Multithreading and use of sleep() function </b>\n",
    "\n",
    "A thread is a subset of the process. A process can have one or more threads.\n",
    "\n",
    "The sleep() function suspends execution of the current thread for a given number of seconds."
   ]
  },
  {
   "cell_type": "code",
   "execution_count": 69,
   "metadata": {},
   "outputs": [
    {
     "name": "stdout",
     "output_type": "stream",
     "text": [
      "HelloHi\n",
      "Hi\n",
      "Hi\n",
      "\n",
      "Hello\n",
      "Hello\n"
     ]
    }
   ],
   "source": [
    "import threading \n",
    "  \n",
    "def print_hello_three_times():\n",
    "  for i in range(3):\n",
    "    print(\"Hello\")\n",
    "  \n",
    "def print_hi_three_times(): \n",
    "    for i in range(3): \n",
    "      print(\"Hi\") \n",
    "\n",
    "t1 = threading.Thread(target=print_hello_three_times)  \n",
    "t2 = threading.Thread(target=print_hi_three_times)  \n",
    "\n",
    "t1.start()\n",
    "t2.start()"
   ]
  },
  {
   "cell_type": "code",
   "execution_count": 72,
   "metadata": {},
   "outputs": [
    {
     "name": "stdout",
     "output_type": "stream",
     "text": [
      "Hello\n",
      "Hello\n",
      "Hello\n",
      "Hello\n",
      "Hi\n",
      "Hi\n",
      "Hi\n",
      "Hi\n"
     ]
    }
   ],
   "source": [
    "import threading \n",
    "import time\n",
    "  \n",
    "def print_hello():\n",
    "  for i in range(4):\n",
    "    #time.sleep(0.5)\n",
    "    print(\"Hello\")\n",
    "  \n",
    "def print_hi(): \n",
    "    for i in range(4): \n",
    "      time.sleep(0.7)\n",
    "      print(\"Hi\") \n",
    "\n",
    "t1 = threading.Thread(target=print_hello)  \n",
    "t2 = threading.Thread(target=print_hi)  \n",
    "t1.start()\n",
    "t2.start()"
   ]
  },
  {
   "cell_type": "markdown",
   "metadata": {},
   "source": [
    "## Local, Global, Namespace"
   ]
  },
  {
   "cell_type": "code",
   "execution_count": 105,
   "metadata": {},
   "outputs": [
    {
     "name": "stdout",
     "output_type": "stream",
     "text": [
      "After local assignment: test spam\n",
      "After nonlocal assignment: nonlocal spam\n",
      "After global assignment: nonlocal spam\n",
      "In global scope: global spam\n"
     ]
    }
   ],
   "source": [
    "def scope_test():\n",
    "    def do_local():\n",
    "        spam = \"local spam\"\n",
    "\n",
    "    def do_nonlocal():\n",
    "        nonlocal spam\n",
    "        spam = \"nonlocal spam\"\n",
    "\n",
    "    def do_global():\n",
    "        global spam\n",
    "        spam = \"global spam\"\n",
    "\n",
    "    spam = \"test spam\"\n",
    "    do_local()\n",
    "    print(\"After local assignment:\", spam)\n",
    "    do_nonlocal()\n",
    "    print(\"After nonlocal assignment:\", spam)\n",
    "    do_global()\n",
    "    print(\"After global assignment:\", spam)\n",
    "\n",
    "scope_test()\n",
    "print(\"In global scope:\", spam)"
   ]
  },
  {
   "cell_type": "markdown",
   "metadata": {},
   "source": [
    "## Try,Except"
   ]
  },
  {
   "cell_type": "code",
   "execution_count": 106,
   "metadata": {},
   "outputs": [
    {
     "name": "stdout",
     "output_type": "stream",
     "text": [
      "2018-11-28 00:00:00\n"
     ]
    }
   ],
   "source": [
    "try :\n",
    "    print(a)\n",
    "except:\n",
    "    print(\"Error.Undefined var\")"
   ]
  },
  {
   "cell_type": "markdown",
   "metadata": {},
   "source": [
    "# Import and module"
   ]
  },
  {
   "cell_type": "code",
   "execution_count": 107,
   "metadata": {},
   "outputs": [
    {
     "name": "stdout",
     "output_type": "stream",
     "text": [
      "The value of pi is 3.141592653589793\n"
     ]
    }
   ],
   "source": [
    "import math\n",
    "#Importing module math\n",
    "print(\"The value of pi is\", math.pi)"
   ]
  },
  {
   "cell_type": "code",
   "execution_count": 108,
   "metadata": {},
   "outputs": [
    {
     "name": "stdout",
     "output_type": "stream",
     "text": [
      "The value of pi is 3.141592653589793\n"
     ]
    }
   ],
   "source": [
    "# import module by renaming it\n",
    "import math as m\n",
    "print(\"The value of pi is\", m.pi)"
   ]
  },
  {
   "cell_type": "code",
   "execution_count": 109,
   "metadata": {},
   "outputs": [
    {
     "name": "stdout",
     "output_type": "stream",
     "text": [
      "The value of pi is 3.141592653589793\n"
     ]
    }
   ],
   "source": [
    "#Import using from\n",
    "from math import pi\n",
    "print(\"The value of pi is\", pi)"
   ]
  },
  {
   "cell_type": "code",
   "execution_count": 110,
   "metadata": {},
   "outputs": [
    {
     "name": "stdout",
     "output_type": "stream",
     "text": [
      "The value of pi is 3.141592653589793\n"
     ]
    }
   ],
   "source": [
    "#Import all\n",
    "from math import *\n",
    "print(\"The value of pi is\", pi)"
   ]
  },
  {
   "cell_type": "code",
   "execution_count": 111,
   "metadata": {},
   "outputs": [
    {
     "data": {
      "text/plain": [
       "['__doc__',\n",
       " '__loader__',\n",
       " '__name__',\n",
       " '__package__',\n",
       " '__spec__',\n",
       " 'acos',\n",
       " 'acosh',\n",
       " 'asin',\n",
       " 'asinh',\n",
       " 'atan',\n",
       " 'atan2',\n",
       " 'atanh',\n",
       " 'ceil',\n",
       " 'copysign',\n",
       " 'cos',\n",
       " 'cosh',\n",
       " 'degrees',\n",
       " 'e',\n",
       " 'erf',\n",
       " 'erfc',\n",
       " 'exp',\n",
       " 'expm1',\n",
       " 'fabs',\n",
       " 'factorial',\n",
       " 'floor',\n",
       " 'fmod',\n",
       " 'frexp',\n",
       " 'fsum',\n",
       " 'gamma',\n",
       " 'gcd',\n",
       " 'hypot',\n",
       " 'inf',\n",
       " 'isclose',\n",
       " 'isfinite',\n",
       " 'isinf',\n",
       " 'isnan',\n",
       " 'ldexp',\n",
       " 'lgamma',\n",
       " 'log',\n",
       " 'log10',\n",
       " 'log1p',\n",
       " 'log2',\n",
       " 'modf',\n",
       " 'nan',\n",
       " 'pi',\n",
       " 'pow',\n",
       " 'radians',\n",
       " 'sin',\n",
       " 'sinh',\n",
       " 'sqrt',\n",
       " 'tan',\n",
       " 'tanh',\n",
       " 'tau',\n",
       " 'trunc']"
      ]
     },
     "execution_count": 111,
     "metadata": {},
     "output_type": "execute_result"
    }
   ],
   "source": [
    "#Lists all functions avaialbe from math module\n",
    "dir(math)"
   ]
  },
  {
   "cell_type": "code",
   "execution_count": null,
   "metadata": {},
   "outputs": [],
   "source": [
    "'''\n",
    "Custom Module\n",
    "===============\n",
    "#Example_mod.py\n",
    "def fun1(a,b):\n",
    "     print(\"Sum = {a+b}\")\n",
    "================\n",
    "#Main.py\n",
    "import example_mod\n",
    "example_mod.fun1(10,20)\n",
    "'''"
   ]
  },
  {
   "cell_type": "code",
   "execution_count": 119,
   "metadata": {},
   "outputs": [
    {
     "name": "stdout",
     "output_type": "stream",
     "text": [
      "Hello\n",
      "2\n"
     ]
    }
   ],
   "source": [
    "def stuff():\n",
    "    print(\"Hello\")\n",
    "    return\n",
    "    print(\"World\")\n",
    "\n",
    "stuff()\n",
    "\n",
    "\n",
    "def addv(a,b):\n",
    "    add1 = a + b\n",
    "    return a\n",
    "\n",
    "x = addv(2,7)\n",
    "print(x)"
   ]
  },
  {
   "cell_type": "code",
   "execution_count": 129,
   "metadata": {},
   "outputs": [
    {
     "name": "stdout",
     "output_type": "stream",
     "text": [
      "Enter Hours:45\n",
      "Enter rate per hour:10.50\n",
      "Pay: 498.75\n"
     ]
    }
   ],
   "source": [
    "def computepay1(h,r):\n",
    "    if h > 40:\n",
    "        return ((40) + ((h-40)*1.5)) * (r)\n",
    "    else:\n",
    "        return (h * r)\n",
    "\n",
    "hr = int(input(\"Enter Hours:\"))\n",
    "rt = float(input(\"Enter rate per hour:\"))\n",
    "\n",
    "pay = computepay1(hr,rt)\n",
    "\n",
    "print(\"Pay:\",pay)"
   ]
  },
  {
   "cell_type": "code",
   "execution_count": 134,
   "metadata": {},
   "outputs": [],
   "source": [
    "n = 0\n",
    "while n > 0:\n",
    "    print(\"Test\")"
   ]
  },
  {
   "cell_type": "code",
   "execution_count": null,
   "metadata": {},
   "outputs": [],
   "source": []
  }
 ],
 "metadata": {
  "kernelspec": {
   "display_name": "Python 3",
   "language": "python",
   "name": "python3"
  },
  "language_info": {
   "codemirror_mode": {
    "name": "ipython",
    "version": 3
   },
   "file_extension": ".py",
   "mimetype": "text/x-python",
   "name": "python",
   "nbconvert_exporter": "python",
   "pygments_lexer": "ipython3",
   "version": "3.6.0"
  }
 },
 "nbformat": 4,
 "nbformat_minor": 2
}
